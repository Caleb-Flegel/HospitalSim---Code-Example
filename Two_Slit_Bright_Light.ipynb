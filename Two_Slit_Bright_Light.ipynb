{
  "nbformat": 4,
  "nbformat_minor": 0,
  "metadata": {
    "colab": {
      "name": "Two Slit Bright Light.ipynb",
      "provenance": [],
      "include_colab_link": true
    },
    "kernelspec": {
      "name": "python3",
      "display_name": "Python 3"
    },
    "language_info": {
      "name": "python"
    }
  },
  "cells": [
    {
      "cell_type": "markdown",
      "metadata": {
        "id": "view-in-github",
        "colab_type": "text"
      },
      "source": [
        "<a href=\"https://colab.research.google.com/github/Caleb-Flegel/CS2---Code-Example/blob/master/Two_Slit_Bright_Light.ipynb\" target=\"_parent\"><img src=\"https://colab.research.google.com/assets/colab-badge.svg\" alt=\"Open In Colab\"/></a>"
      ]
    },
    {
      "cell_type": "markdown",
      "metadata": {
        "id": "_EBHWIU53cMp"
      },
      "source": [
        "Partner: Zach Washburn\n",
        "\n",
        "Date: 9/20/2022"
      ]
    },
    {
      "cell_type": "markdown",
      "metadata": {
        "id": "rvWHD8mi3fk2"
      },
      "source": [
        "# Objectives\n",
        "* To measure both of the slit widths in the double slit slide using\n",
        "their respective single-slit diffraction patterns.\n",
        "* To determine the laser wavelength using by fitting the Fraunhofer\n",
        "model for two-slit interference to the observed intensity pattern.\n"
      ]
    },
    {
      "cell_type": "markdown",
      "metadata": {
        "id": "RhF7QGg_3vCp"
      },
      "source": [
        "# Install and import libraries"
      ]
    },
    {
      "cell_type": "code",
      "metadata": {
        "id": "WubCoyfR3Z13",
        "colab": {
          "base_uri": "https://localhost:8080/"
        },
        "outputId": "b8046601-9c33-48cf-e83a-e00e592c1eea"
      },
      "source": [
        "!pip install whit-phys-util 1>/dev/null\n",
        "!pip install xlrd --upgrade"
      ],
      "execution_count": 1,
      "outputs": [
        {
          "output_type": "stream",
          "name": "stdout",
          "text": [
            "Looking in indexes: https://pypi.org/simple, https://us-python.pkg.dev/colab-wheels/public/simple/\n",
            "Requirement already satisfied: xlrd in /usr/local/lib/python3.7/dist-packages (1.1.0)\n",
            "Collecting xlrd\n",
            "  Downloading xlrd-2.0.1-py2.py3-none-any.whl (96 kB)\n",
            "\u001b[K     |████████████████████████████████| 96 kB 2.8 MB/s \n",
            "\u001b[?25hInstalling collected packages: xlrd\n",
            "  Attempting uninstall: xlrd\n",
            "    Found existing installation: xlrd 1.1.0\n",
            "    Uninstalling xlrd-1.1.0:\n",
            "      Successfully uninstalled xlrd-1.1.0\n",
            "Successfully installed xlrd-2.0.1\n"
          ]
        }
      ]
    },
    {
      "cell_type": "code",
      "metadata": {
        "id": "z71tvh4S3zuM"
      },
      "source": [
        "import numpy as np\n",
        "import pandas as pd\n",
        "import matplotlib.pyplot as plt\n",
        "from scipy.optimize import curve_fit\n",
        "import whit_phys_util as buc"
      ],
      "execution_count": 2,
      "outputs": []
    },
    {
      "cell_type": "markdown",
      "metadata": {
        "id": "8ITZg-fK31iu"
      },
      "source": [
        "# Connect to GitHub"
      ]
    },
    {
      "cell_type": "code",
      "metadata": {
        "id": "ZJpw8lT64Blb",
        "colab": {
          "base_uri": "https://localhost:8080/"
        },
        "outputId": "42201050-092e-4693-f68f-d42e74cbe726"
      },
      "source": [
        "repo = buc.local_repository(\"https://github.com/PS251-FA22/two-slit-bright-1b\")"
      ],
      "execution_count": 3,
      "outputs": [
        {
          "output_type": "stream",
          "name": "stdout",
          "text": [
            "Repository exists at this location. Pulling changes from GitHub.\n"
          ]
        }
      ]
    },
    {
      "cell_type": "markdown",
      "metadata": {
        "id": "0K4rOfR44Cn_"
      },
      "source": [
        "# Equipment\n",
        "\n",
        "| Description | Manufacturer | Model | ID or SN |\n",
        "| ----------- | ------------ | ----- | -------- |\n",
        "| Two-slit interference, one-photon-at-a-time apparatus | TeachSpin | TWS 2-A | TWS 383 |\n",
        "| multimeter | Fluke | 179 | 58870154 |\n"
      ]
    },
    {
      "cell_type": "markdown",
      "source": [
        "# Slit-blocker positions\n",
        "* Far slit unblocked: 4.35 mm\n",
        "* Both unblocked: 5.65 mm\n",
        "* Near slit unblocked: 6.09 mm"
      ],
      "metadata": {
        "id": "e_W0h9hFkaiu"
      }
    },
    {
      "cell_type": "code",
      "source": [
        "distanceToDetector = 19100 # distance from double-slit to detector in mm"
      ],
      "metadata": {
        "id": "Hj8NCObtoCSj"
      },
      "execution_count": 4,
      "outputs": []
    },
    {
      "cell_type": "markdown",
      "source": [
        "19100 mm"
      ],
      "metadata": {
        "id": "I7xT4O6qnAaL"
      }
    },
    {
      "cell_type": "markdown",
      "source": [
        "# Key landmarks in the interference pattern"
      ],
      "metadata": {
        "id": "Zm-ESeylopSM"
      }
    },
    {
      "cell_type": "markdown",
      "source": [
        "| Label | Location (mm) | Photodiode Voltage (V) | \n",
        "| ----- | ------------- | ---------------------- |\n",
        "|$\\mathrm{3_f}$ | 3.41 | 0.600 |\n",
        "|$\\mathrm{2_f}$ | 4.21 | 1.549 |\n",
        "|$\\mathrm{1_f}$ | 5.15 | 2.498 |\n",
        "|$0$            | 5.81 | 2.809 | \n",
        "|$\\mathrm{1_n}$ | 6.72 | 2.498 |\n",
        "|$\\mathrm{2_n}$ | 7.50 | 1.521 |\n",
        "|$\\mathrm{3_n}$ | 8.26 | 0.588 |"
      ],
      "metadata": {
        "id": "YIze_DcAouu6"
      }
    },
    {
      "cell_type": "markdown",
      "source": [
        "We encountered good differences in volts and location between the three peaks we measured in either direction of the maximum. One possible issues is that our peak voltage is lower than it ideally should be. "
      ],
      "metadata": {
        "id": "rudrK-hKx-fV"
      }
    },
    {
      "cell_type": "markdown",
      "source": [
        "# Import Data"
      ],
      "metadata": {
        "id": "geaR6Goq63Tj"
      }
    },
    {
      "cell_type": "code",
      "source": [
        "df_near = pd.read_excel(\"Two Slit Bright Data.xlsx\", \"Near Slit Only\")\n",
        "df_far = pd.read_excel(\"Two Slit Bright Data.xlsx\", \"Far Slit Only\")\n",
        "df_both = pd.read_excel(\"Two Slit Bright Data.xlsx\", \"Both Slits\")"
      ],
      "metadata": {
        "id": "38FDfKfFnLOa"
      },
      "execution_count": 5,
      "outputs": []
    },
    {
      "cell_type": "code",
      "source": [
        "x = df_near['Location (mm)'] - 5.81\n",
        "V_near = df_near['Photodiode Voltage (V)']\n",
        "V_far = df_far['Photodiode Voltage (V)']\n",
        "V_both = df_both['Photodiode Voltage (V)']"
      ],
      "metadata": {
        "id": "Ahf4y4a07Zu0"
      },
      "execution_count": 6,
      "outputs": []
    },
    {
      "cell_type": "markdown",
      "source": [
        "# Single Slit Diffraction"
      ],
      "metadata": {
        "id": "mgNCxqhH8AVG"
      }
    },
    {
      "cell_type": "code",
      "source": [
        "def I_ss(x, I0, a, x0): \n",
        "  wavelength = 0.000670 # 670 nm converted to mm\n",
        "  q = np.arctan((x-x0) / distanceToDetector)\n",
        "  return I0*np.sinc( a*np.sin(q)/wavelength )**2\n",
        "\n",
        "param, cov = curve_fit(I_ss, df_far['Location (mm)'], df_far['Photodiode Voltage (V)'], p0=[.734, .1, -.5])"
      ],
      "metadata": {
        "id": "5KsrZQWo9SLo"
      },
      "execution_count": 17,
      "outputs": []
    },
    {
      "cell_type": "code",
      "source": [
        "from whit_phys_util.pretty_fit import fitTable\n",
        "fitTable = buc.fitTable(param, cov, paramLabels=['I0', 'a', 'x0'])\n",
        "fitTable"
      ],
      "metadata": {
        "id": "CAjniYJIB351",
        "outputId": "180ec7c7-1198-4a0e-b8ed-c5a030d6a21a",
        "colab": {
          "base_uri": "https://localhost:8080/",
          "height": 112
        }
      },
      "execution_count": 18,
      "outputs": [
        {
          "output_type": "execute_result",
          "data": {
            "text/plain": [
              "                   I0         a        x0\n",
              "value        0.735945  3.534052  5.422231\n",
              "uncertainty  0.001084  0.010065  0.003032"
            ],
            "text/html": [
              "\n",
              "  <div id=\"df-1c2cabef-af63-4425-b7fa-af0e7d7c18e6\">\n",
              "    <div class=\"colab-df-container\">\n",
              "      <div>\n",
              "<style scoped>\n",
              "    .dataframe tbody tr th:only-of-type {\n",
              "        vertical-align: middle;\n",
              "    }\n",
              "\n",
              "    .dataframe tbody tr th {\n",
              "        vertical-align: top;\n",
              "    }\n",
              "\n",
              "    .dataframe thead th {\n",
              "        text-align: right;\n",
              "    }\n",
              "</style>\n",
              "<table border=\"1\" class=\"dataframe\">\n",
              "  <thead>\n",
              "    <tr style=\"text-align: right;\">\n",
              "      <th></th>\n",
              "      <th>I0</th>\n",
              "      <th>a</th>\n",
              "      <th>x0</th>\n",
              "    </tr>\n",
              "  </thead>\n",
              "  <tbody>\n",
              "    <tr>\n",
              "      <th>value</th>\n",
              "      <td>0.735945</td>\n",
              "      <td>3.534052</td>\n",
              "      <td>5.422231</td>\n",
              "    </tr>\n",
              "    <tr>\n",
              "      <th>uncertainty</th>\n",
              "      <td>0.001084</td>\n",
              "      <td>0.010065</td>\n",
              "      <td>0.003032</td>\n",
              "    </tr>\n",
              "  </tbody>\n",
              "</table>\n",
              "</div>\n",
              "      <button class=\"colab-df-convert\" onclick=\"convertToInteractive('df-1c2cabef-af63-4425-b7fa-af0e7d7c18e6')\"\n",
              "              title=\"Convert this dataframe to an interactive table.\"\n",
              "              style=\"display:none;\">\n",
              "        \n",
              "  <svg xmlns=\"http://www.w3.org/2000/svg\" height=\"24px\"viewBox=\"0 0 24 24\"\n",
              "       width=\"24px\">\n",
              "    <path d=\"M0 0h24v24H0V0z\" fill=\"none\"/>\n",
              "    <path d=\"M18.56 5.44l.94 2.06.94-2.06 2.06-.94-2.06-.94-.94-2.06-.94 2.06-2.06.94zm-11 1L8.5 8.5l.94-2.06 2.06-.94-2.06-.94L8.5 2.5l-.94 2.06-2.06.94zm10 10l.94 2.06.94-2.06 2.06-.94-2.06-.94-.94-2.06-.94 2.06-2.06.94z\"/><path d=\"M17.41 7.96l-1.37-1.37c-.4-.4-.92-.59-1.43-.59-.52 0-1.04.2-1.43.59L10.3 9.45l-7.72 7.72c-.78.78-.78 2.05 0 2.83L4 21.41c.39.39.9.59 1.41.59.51 0 1.02-.2 1.41-.59l7.78-7.78 2.81-2.81c.8-.78.8-2.07 0-2.86zM5.41 20L4 18.59l7.72-7.72 1.47 1.35L5.41 20z\"/>\n",
              "  </svg>\n",
              "      </button>\n",
              "      \n",
              "  <style>\n",
              "    .colab-df-container {\n",
              "      display:flex;\n",
              "      flex-wrap:wrap;\n",
              "      gap: 12px;\n",
              "    }\n",
              "\n",
              "    .colab-df-convert {\n",
              "      background-color: #E8F0FE;\n",
              "      border: none;\n",
              "      border-radius: 50%;\n",
              "      cursor: pointer;\n",
              "      display: none;\n",
              "      fill: #1967D2;\n",
              "      height: 32px;\n",
              "      padding: 0 0 0 0;\n",
              "      width: 32px;\n",
              "    }\n",
              "\n",
              "    .colab-df-convert:hover {\n",
              "      background-color: #E2EBFA;\n",
              "      box-shadow: 0px 1px 2px rgba(60, 64, 67, 0.3), 0px 1px 3px 1px rgba(60, 64, 67, 0.15);\n",
              "      fill: #174EA6;\n",
              "    }\n",
              "\n",
              "    [theme=dark] .colab-df-convert {\n",
              "      background-color: #3B4455;\n",
              "      fill: #D2E3FC;\n",
              "    }\n",
              "\n",
              "    [theme=dark] .colab-df-convert:hover {\n",
              "      background-color: #434B5C;\n",
              "      box-shadow: 0px 1px 3px 1px rgba(0, 0, 0, 0.15);\n",
              "      filter: drop-shadow(0px 1px 2px rgba(0, 0, 0, 0.3));\n",
              "      fill: #FFFFFF;\n",
              "    }\n",
              "  </style>\n",
              "\n",
              "      <script>\n",
              "        const buttonEl =\n",
              "          document.querySelector('#df-1c2cabef-af63-4425-b7fa-af0e7d7c18e6 button.colab-df-convert');\n",
              "        buttonEl.style.display =\n",
              "          google.colab.kernel.accessAllowed ? 'block' : 'none';\n",
              "\n",
              "        async function convertToInteractive(key) {\n",
              "          const element = document.querySelector('#df-1c2cabef-af63-4425-b7fa-af0e7d7c18e6');\n",
              "          const dataTable =\n",
              "            await google.colab.kernel.invokeFunction('convertToInteractive',\n",
              "                                                     [key], {});\n",
              "          if (!dataTable) return;\n",
              "\n",
              "          const docLinkHtml = 'Like what you see? Visit the ' +\n",
              "            '<a target=\"_blank\" href=https://colab.research.google.com/notebooks/data_table.ipynb>data table notebook</a>'\n",
              "            + ' to learn more about interactive tables.';\n",
              "          element.innerHTML = '';\n",
              "          dataTable['output_type'] = 'display_data';\n",
              "          await google.colab.output.renderOutput(dataTable, element);\n",
              "          const docLink = document.createElement('div');\n",
              "          docLink.innerHTML = docLinkHtml;\n",
              "          element.appendChild(docLink);\n",
              "        }\n",
              "      </script>\n",
              "    </div>\n",
              "  </div>\n",
              "  "
            ]
          },
          "metadata": {},
          "execution_count": 18
        }
      ]
    },
    {
      "cell_type": "code",
      "source": [
        "df_far['Best fit'] = I_ss(df_far[\"Location (mm)\"])"
      ],
      "metadata": {
        "id": "VNTbi6gmCNpu"
      },
      "execution_count": null,
      "outputs": []
    },
    {
      "cell_type": "code",
      "source": [
        "fig_ss, ax_ss = plt.subplots();\n",
        "\n",
        "ax_ss.scatter(x, V_near, marker='.', label=\"Near slit\");\n",
        "ax_ss.scatter(x, V_far, marker='.', label=\"Far slit\");\n",
        "\n",
        "ax_ss.set_xlabel(\"Position relative to center (mm)\");\n",
        "ax_ss.set_ylabel(\"Intensity (a.u.)\");\n",
        "ax_ss.legend();\n",
        "ax_ss.set_xlim(-2,2);\n",
        "ax_ss.set_ylim(0,1);"
      ],
      "metadata": {
        "id": "R6DvJSDy8FyC",
        "outputId": "328b8fc6-dbc5-4ede-87a7-b5ccdc1c709d",
        "colab": {
          "base_uri": "https://localhost:8080/",
          "height": 283
        }
      },
      "execution_count": 8,
      "outputs": [
        {
          "output_type": "display_data",
          "data": {
            "text/plain": [
              "<Figure size 432x288 with 1 Axes>"
            ],
            "image/png": "[encoded data removed]"
          },
          "metadata": {
            "needs_background": "light"
          }
        }
      ]
    },
    {
      "cell_type": "code",
      "source": [],
      "metadata": {
        "id": "3f3q-SJe7-yn"
      },
      "execution_count": null,
      "outputs": []
    }
  ]
}
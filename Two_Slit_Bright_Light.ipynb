{
  "nbformat": 4,
  "nbformat_minor": 0,
  "metadata": {
    "colab": {
      "name": "Two Slit Bright Light.ipynb",
      "provenance": [],
      "include_colab_link": true
    },
    "kernelspec": {
      "name": "python3",
      "display_name": "Python 3"
    },
    "language_info": {
      "name": "python"
    }
  },
  "cells": [
    {
      "cell_type": "markdown",
      "metadata": {
        "id": "view-in-github",
        "colab_type": "text"
      },
      "source": [
        "<a href=\"https://colab.research.google.com/github/Caleb-Flegel/CS2---Code-Example/blob/master/Two_Slit_Bright_Light.ipynb\" target=\"_parent\"><img src=\"https://colab.research.google.com/assets/colab-badge.svg\" alt=\"Open In Colab\"/></a>"
      ]
    },
    {
      "cell_type": "markdown",
      "metadata": {
        "id": "_EBHWIU53cMp"
      },
      "source": [
        "Partner: Zach Washburn\n",
        "\n",
        "Date: 9/20/2022"
      ]
    },
    {
      "cell_type": "markdown",
      "metadata": {
        "id": "rvWHD8mi3fk2"
      },
      "source": [
        "# Objectives\n",
        "* To measure both of the slit widths in the double slit slide using\n",
        "their respective single-slit diffraction patterns.\n",
        "* To determine the laser wavelength using by fitting the Fraunhofer\n",
        "model for two-slit interference to the observed intensity pattern.\n"
      ]
    },
    {
      "cell_type": "markdown",
      "metadata": {
        "id": "RhF7QGg_3vCp"
      },
      "source": [
        "# Install and import libraries"
      ]
    },
    {
      "cell_type": "code",
      "metadata": {
        "id": "WubCoyfR3Z13"
      },
      "source": [
        "!pip install whit-phys-util 1>/dev/null"
      ],
      "execution_count": 1,
      "outputs": []
    },
    {
      "cell_type": "code",
      "metadata": {
        "id": "z71tvh4S3zuM",
        "colab": {
          "base_uri": "https://localhost:8080/"
        },
        "outputId": "e079c2c5-5df8-4f00-a0ed-a3114a909d1a"
      },
      "source": [
        "import numpy as np\n",
        "import pandas as pd\n",
        "import matplotlib.pyplot as plt\n",
        "from scipy.optimize import curve_fit\n",
        "import whit_phys_util as buc"
      ],
      "execution_count": 2,
      "outputs": [
        {
          "output_type": "stream",
          "name": "stdout",
          "text": [
            "Mounted at /content/drive\n"
          ]
        }
      ]
    },
    {
      "cell_type": "markdown",
      "metadata": {
        "id": "8ITZg-fK31iu"
      },
      "source": [
        "# Connect to GitHub"
      ]
    },
    {
      "cell_type": "code",
      "metadata": {
        "id": "ZJpw8lT64Blb",
        "colab": {
          "base_uri": "https://localhost:8080/"
        },
        "outputId": "f5a2340d-f5f8-4839-8896-28c75f96496e"
      },
      "source": [
        "repo = buc.local_repository(\"https://github.com/PS251-FA22/two-slit-bright-1b\")"
      ],
      "execution_count": 3,
      "outputs": [
        {
          "output_type": "stream",
          "name": "stdout",
          "text": [
            "Cloning repository from GitHub.\n"
          ]
        }
      ]
    },
    {
      "cell_type": "markdown",
      "metadata": {
        "id": "0K4rOfR44Cn_"
      },
      "source": [
        "# Equipment\n",
        "\n",
        "| Description | Manufacturer | Model | ID or SN |\n",
        "| ----------- | ------------ | ----- | -------- |\n",
        "| Two-slit interference, one-photon-at-a-time apparatus | TeachSpin | TWS 2-A | TWS 383 |\n",
        "| multimeter | Fluke | 179 | 58870154 |\n"
      ]
    },
    {
      "cell_type": "markdown",
      "source": [
        "# Slit-blocker positions\n",
        "* Far slit unblocked: 4.35 mm\n",
        "* Both unblocked: 5.65 mm\n",
        "* Near slit unblocked: 6.09 mm"
      ],
      "metadata": {
        "id": "e_W0h9hFkaiu"
      }
    },
    {
      "cell_type": "code",
      "source": [
        "distanceToDetector = 19100 # distance from double-slit to detector in mm"
      ],
      "metadata": {
        "id": "Hj8NCObtoCSj"
      },
      "execution_count": null,
      "outputs": []
    },
    {
      "cell_type": "markdown",
      "source": [
        "19100 mm"
      ],
      "metadata": {
        "id": "I7xT4O6qnAaL"
      }
    },
    {
      "cell_type": "markdown",
      "source": [
        "# Key landmarks in the interference pattern"
      ],
      "metadata": {
        "id": "Zm-ESeylopSM"
      }
    },
    {
      "cell_type": "markdown",
      "source": [
        "| Label | Location (mm) | Photodiode Voltage (V) | \n",
        "| ----- | ------------- | ---------------------- |\n",
        "|$\\mathrm{3_f}$ | 3.41 | 0.600 |\n",
        "|$\\mathrm{2_f}$ | 4.21 | 1.549 |\n",
        "|$\\mathrm{1_f}$ | 5.15 | 2.498 |\n",
        "|$0$            | 5.81 | 2.809 | \n",
        "|$\\mathrm{1_n}$ | 6.72 | 2.498 |\n",
        "|$\\mathrm{2_n}$ | 7.50 | 1.521 |\n",
        "|$\\mathrm{3_n}$ | 8.26 | 0.588 |"
      ],
      "metadata": {
        "id": "YIze_DcAouu6"
      }
    },
    {
      "cell_type": "markdown",
      "source": [
        "We encountered good differences in volts and location between the three peaks we measured in either direction of the maximum. One possible issues is that our peak voltage is lower than it ideally should be. "
      ],
      "metadata": {
        "id": "rudrK-hKx-fV"
      }
    },
    {
      "cell_type": "code",
      "source": [],
      "metadata": {
        "id": "38FDfKfFnLOa"
      },
      "execution_count": null,
      "outputs": []
    }
  ]
}
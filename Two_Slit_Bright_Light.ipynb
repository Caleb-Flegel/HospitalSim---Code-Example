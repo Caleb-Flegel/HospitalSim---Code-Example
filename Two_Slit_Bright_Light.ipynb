{
  "nbformat": 4,
  "nbformat_minor": 0,
  "metadata": {
    "colab": {
      "name": "Two Slit Bright Light.ipynb",
      "provenance": [],
      "include_colab_link": true
    },
    "kernelspec": {
      "name": "python3",
      "display_name": "Python 3"
    },
    "language_info": {
      "name": "python"
    }
  },
  "cells": [
    {
      "cell_type": "markdown",
      "metadata": {
        "id": "view-in-github",
        "colab_type": "text"
      },
      "source": [
        "<a href=\"https://colab.research.google.com/github/Caleb-Flegel/CS2---Code-Example/blob/master/Two_Slit_Bright_Light.ipynb\" target=\"_parent\"><img src=\"https://colab.research.google.com/assets/colab-badge.svg\" alt=\"Open In Colab\"/></a>"
      ]
    },
    {
      "cell_type": "markdown",
      "metadata": {
        "id": "_EBHWIU53cMp"
      },
      "source": [
        "Partner: Zach Washburn\n",
        "\n",
        "Date: 9/20/2022"
      ]
    },
    {
      "cell_type": "markdown",
      "metadata": {
        "id": "rvWHD8mi3fk2"
      },
      "source": [
        "# Objectives\n",
        "* To measure both of the slit widths in the double slit slide using\n",
        "their respective single-slit diffraction patterns.\n",
        "* To determine the laser wavelength using by fitting the Fraunhofer\n",
        "model for two-slit interference to the observed intensity pattern.\n"
      ]
    },
    {
      "cell_type": "markdown",
      "metadata": {
        "id": "RhF7QGg_3vCp"
      },
      "source": [
        "# Install and import libraries"
      ]
    },
    {
      "cell_type": "code",
      "metadata": {
        "id": "WubCoyfR3Z13",
        "colab": {
          "base_uri": "https://localhost:8080/"
        },
        "outputId": "42ffa8e9-03be-4755-cf87-3d4b60a2ffe8"
      },
      "source": [
        "!pip install whit-phys-util 1>/dev/null\n",
        "!pip install xlrd --upgrade"
      ],
      "execution_count": 1,
      "outputs": [
        {
          "output_type": "stream",
          "name": "stdout",
          "text": [
            "Looking in indexes: https://pypi.org/simple, https://us-python.pkg.dev/colab-wheels/public/simple/\n",
            "Requirement already satisfied: xlrd in /usr/local/lib/python3.7/dist-packages (1.1.0)\n",
            "Collecting xlrd\n",
            "  Downloading xlrd-2.0.1-py2.py3-none-any.whl (96 kB)\n",
            "\u001b[K     |████████████████████████████████| 96 kB 1.9 MB/s \n",
            "\u001b[?25hInstalling collected packages: xlrd\n",
            "  Attempting uninstall: xlrd\n",
            "    Found existing installation: xlrd 1.1.0\n",
            "    Uninstalling xlrd-1.1.0:\n",
            "      Successfully uninstalled xlrd-1.1.0\n",
            "Successfully installed xlrd-2.0.1\n"
          ]
        }
      ]
    },
    {
      "cell_type": "code",
      "metadata": {
        "id": "z71tvh4S3zuM",
        "colab": {
          "base_uri": "https://localhost:8080/"
        },
        "outputId": "6d22483a-da2f-4a56-c759-a45034981772"
      },
      "source": [
        "import numpy as np\n",
        "import pandas as pd\n",
        "import matplotlib.pyplot as plt\n",
        "from scipy.optimize import curve_fit\n",
        "import whit_phys_util as buc"
      ],
      "execution_count": 2,
      "outputs": [
        {
          "output_type": "stream",
          "name": "stdout",
          "text": [
            "Mounted at /content/drive\n"
          ]
        }
      ]
    },
    {
      "cell_type": "markdown",
      "metadata": {
        "id": "8ITZg-fK31iu"
      },
      "source": [
        "# Connect to GitHub"
      ]
    },
    {
      "cell_type": "code",
      "metadata": {
        "id": "ZJpw8lT64Blb",
        "colab": {
          "base_uri": "https://localhost:8080/"
        },
        "outputId": "cd44d086-3908-4847-aa57-4040d5741501"
      },
      "source": [
        "repo = buc.local_repository(\"https://github.com/PS251-FA22/two-slit-bright-1b\")"
      ],
      "execution_count": 3,
      "outputs": [
        {
          "output_type": "stream",
          "name": "stdout",
          "text": [
            "Cloning repository from GitHub.\n"
          ]
        }
      ]
    },
    {
      "cell_type": "markdown",
      "metadata": {
        "id": "0K4rOfR44Cn_"
      },
      "source": [
        "# Equipment\n",
        "\n",
        "| Description | Manufacturer | Model | ID or SN |\n",
        "| ----------- | ------------ | ----- | -------- |\n",
        "| Two-slit interference, one-photon-at-a-time apparatus | TeachSpin | TWS 2-A | TWS 383 |\n",
        "| multimeter | Fluke | 179 | 58870154 |\n"
      ]
    },
    {
      "cell_type": "markdown",
      "source": [
        "# Slit-blocker positions\n",
        "* Far slit unblocked: 4.35 mm\n",
        "* Both unblocked: 5.65 mm\n",
        "* Near slit unblocked: 6.09 mm"
      ],
      "metadata": {
        "id": "e_W0h9hFkaiu"
      }
    },
    {
      "cell_type": "code",
      "source": [
        "distanceToDetector = 19100 # distance from double-slit to detector in mm"
      ],
      "metadata": {
        "id": "Hj8NCObtoCSj"
      },
      "execution_count": 4,
      "outputs": []
    },
    {
      "cell_type": "markdown",
      "source": [
        "19100 mm"
      ],
      "metadata": {
        "id": "I7xT4O6qnAaL"
      }
    },
    {
      "cell_type": "markdown",
      "source": [
        "# Key landmarks in the interference pattern"
      ],
      "metadata": {
        "id": "Zm-ESeylopSM"
      }
    },
    {
      "cell_type": "markdown",
      "source": [
        "| Label | Location (mm) | Photodiode Voltage (V) | \n",
        "| ----- | ------------- | ---------------------- |\n",
        "|$\\mathrm{3_f}$ | 3.41 | 0.600 |\n",
        "|$\\mathrm{2_f}$ | 4.21 | 1.549 |\n",
        "|$\\mathrm{1_f}$ | 5.15 | 2.498 |\n",
        "|$0$            | 5.81 | 2.809 | \n",
        "|$\\mathrm{1_n}$ | 6.72 | 2.498 |\n",
        "|$\\mathrm{2_n}$ | 7.50 | 1.521 |\n",
        "|$\\mathrm{3_n}$ | 8.26 | 0.588 |"
      ],
      "metadata": {
        "id": "YIze_DcAouu6"
      }
    },
    {
      "cell_type": "markdown",
      "source": [
        "We encountered good differences in volts and location between the three peaks we measured in either direction of the maximum. One possible issues is that our peak voltage is lower than it ideally should be. "
      ],
      "metadata": {
        "id": "rudrK-hKx-fV"
      }
    },
    {
      "cell_type": "markdown",
      "source": [
        "# Import Data"
      ],
      "metadata": {
        "id": "geaR6Goq63Tj"
      }
    },
    {
      "cell_type": "code",
      "source": [
        "df_near = pd.read_excel(\"Two Slit Bright Data.xlsx\", \"Near Slit Only\")\n",
        "df_far = pd.read_excel(\"Two Slit Bright Data.xlsx\", \"Far Slit Only\")\n",
        "df_both = pd.read_excel(\"Two Slit Bright Data.xlsx\", \"Both Slits\")"
      ],
      "metadata": {
        "id": "38FDfKfFnLOa"
      },
      "execution_count": 5,
      "outputs": []
    },
    {
      "cell_type": "code",
      "source": [
        "x = df_near['Location (mm)'] - 5.81\n",
        "V_near = df_near['Photodiode Voltage (V)']\n",
        "V_far = df_far['Photodiode Voltage (V)']\n",
        "V_both = df_both['Photodiode Voltage (V)']"
      ],
      "metadata": {
        "id": "Ahf4y4a07Zu0"
      },
      "execution_count": 6,
      "outputs": []
    },
    {
      "cell_type": "markdown",
      "source": [
        "# Single Slit Diffraction"
      ],
      "metadata": {
        "id": "mgNCxqhH8AVG"
      }
    },
    {
      "cell_type": "code",
      "source": [
        "def I_ss(x, I0, a, x0): \n",
        "  wavelength = 0.000670 # 670 nm converted to mm\n",
        "  q = np.arctan((x-x0) / distanceToDetector)\n",
        "  return I0*np.sinc( a*np.sin(q)/wavelength )**2\n"
      ],
      "metadata": {
        "id": "5KsrZQWo9SLo"
      },
      "execution_count": 7,
      "outputs": []
    },
    {
      "cell_type": "code",
      "source": [
        "param1, far = curve_fit(I_ss, df_far['Location (mm)'], df_far['Photodiode Voltage (V)'], p0=[.736, 3.5, 5.4])\n",
        "df_far['Best fit'] = I_ss(df_far['Location (mm)'], *param1)"
      ],
      "metadata": {
        "id": "VbFTTmBB_k4f"
      },
      "execution_count": 38,
      "outputs": []
    },
    {
      "cell_type": "code",
      "source": [
        "param2, near = curve_fit(I_ss, df_near['Location (mm)'], df_near['Photodiode Voltage (V)'], p0=[.826, 3.4, 6.4])\n",
        "df_near['Best fit'] = I_ss(df_near['Location (mm)'], *param2)"
      ],
      "metadata": {
        "id": "Oq07dAx9-dVY"
      },
      "execution_count": 39,
      "outputs": []
    },
    {
      "cell_type": "code",
      "source": [
        "from whit_phys_util.pretty_fit import fitTable\n",
        "fitTable_far = buc.fitTable(param1,far,paramLabels=['I0', 'a', 'x0'])\n",
        "fitTable_far"
      ],
      "metadata": {
        "colab": {
          "base_uri": "https://localhost:8080/",
          "height": 112
        },
        "id": "CAjniYJIB351",
        "outputId": "b8c9d69e-e99a-4ffc-e091-6f3de2f3d0f8"
      },
      "execution_count": 40,
      "outputs": [
        {
          "output_type": "execute_result",
          "data": {
            "text/plain": [
              "                   I0         a        x0\n",
              "value        0.735945  3.534052  5.422231\n",
              "uncertainty  0.001084  0.010065  0.003032"
            ],
            "text/html": [
              "\n",
              "  <div id=\"df-c8775e5d-9df1-4830-9f39-3b04cd11f8c2\">\n",
              "    <div class=\"colab-df-container\">\n",
              "      <div>\n",
              "<style scoped>\n",
              "    .dataframe tbody tr th:only-of-type {\n",
              "        vertical-align: middle;\n",
              "    }\n",
              "\n",
              "    .dataframe tbody tr th {\n",
              "        vertical-align: top;\n",
              "    }\n",
              "\n",
              "    .dataframe thead th {\n",
              "        text-align: right;\n",
              "    }\n",
              "</style>\n",
              "<table border=\"1\" class=\"dataframe\">\n",
              "  <thead>\n",
              "    <tr style=\"text-align: right;\">\n",
              "      <th></th>\n",
              "      <th>I0</th>\n",
              "      <th>a</th>\n",
              "      <th>x0</th>\n",
              "    </tr>\n",
              "  </thead>\n",
              "  <tbody>\n",
              "    <tr>\n",
              "      <th>value</th>\n",
              "      <td>0.735945</td>\n",
              "      <td>3.534052</td>\n",
              "      <td>5.422231</td>\n",
              "    </tr>\n",
              "    <tr>\n",
              "      <th>uncertainty</th>\n",
              "      <td>0.001084</td>\n",
              "      <td>0.010065</td>\n",
              "      <td>0.003032</td>\n",
              "    </tr>\n",
              "  </tbody>\n",
              "</table>\n",
              "</div>\n",
              "      <button class=\"colab-df-convert\" onclick=\"convertToInteractive('df-c8775e5d-9df1-4830-9f39-3b04cd11f8c2')\"\n",
              "              title=\"Convert this dataframe to an interactive table.\"\n",
              "              style=\"display:none;\">\n",
              "        \n",
              "  <svg xmlns=\"http://www.w3.org/2000/svg\" height=\"24px\"viewBox=\"0 0 24 24\"\n",
              "       width=\"24px\">\n",
              "    <path d=\"M0 0h24v24H0V0z\" fill=\"none\"/>\n",
              "    <path d=\"M18.56 5.44l.94 2.06.94-2.06 2.06-.94-2.06-.94-.94-2.06-.94 2.06-2.06.94zm-11 1L8.5 8.5l.94-2.06 2.06-.94-2.06-.94L8.5 2.5l-.94 2.06-2.06.94zm10 10l.94 2.06.94-2.06 2.06-.94-2.06-.94-.94-2.06-.94 2.06-2.06.94z\"/><path d=\"M17.41 7.96l-1.37-1.37c-.4-.4-.92-.59-1.43-.59-.52 0-1.04.2-1.43.59L10.3 9.45l-7.72 7.72c-.78.78-.78 2.05 0 2.83L4 21.41c.39.39.9.59 1.41.59.51 0 1.02-.2 1.41-.59l7.78-7.78 2.81-2.81c.8-.78.8-2.07 0-2.86zM5.41 20L4 18.59l7.72-7.72 1.47 1.35L5.41 20z\"/>\n",
              "  </svg>\n",
              "      </button>\n",
              "      \n",
              "  <style>\n",
              "    .colab-df-container {\n",
              "      display:flex;\n",
              "      flex-wrap:wrap;\n",
              "      gap: 12px;\n",
              "    }\n",
              "\n",
              "    .colab-df-convert {\n",
              "      background-color: #E8F0FE;\n",
              "      border: none;\n",
              "      border-radius: 50%;\n",
              "      cursor: pointer;\n",
              "      display: none;\n",
              "      fill: #1967D2;\n",
              "      height: 32px;\n",
              "      padding: 0 0 0 0;\n",
              "      width: 32px;\n",
              "    }\n",
              "\n",
              "    .colab-df-convert:hover {\n",
              "      background-color: #E2EBFA;\n",
              "      box-shadow: 0px 1px 2px rgba(60, 64, 67, 0.3), 0px 1px 3px 1px rgba(60, 64, 67, 0.15);\n",
              "      fill: #174EA6;\n",
              "    }\n",
              "\n",
              "    [theme=dark] .colab-df-convert {\n",
              "      background-color: #3B4455;\n",
              "      fill: #D2E3FC;\n",
              "    }\n",
              "\n",
              "    [theme=dark] .colab-df-convert:hover {\n",
              "      background-color: #434B5C;\n",
              "      box-shadow: 0px 1px 3px 1px rgba(0, 0, 0, 0.15);\n",
              "      filter: drop-shadow(0px 1px 2px rgba(0, 0, 0, 0.3));\n",
              "      fill: #FFFFFF;\n",
              "    }\n",
              "  </style>\n",
              "\n",
              "      <script>\n",
              "        const buttonEl =\n",
              "          document.querySelector('#df-c8775e5d-9df1-4830-9f39-3b04cd11f8c2 button.colab-df-convert');\n",
              "        buttonEl.style.display =\n",
              "          google.colab.kernel.accessAllowed ? 'block' : 'none';\n",
              "\n",
              "        async function convertToInteractive(key) {\n",
              "          const element = document.querySelector('#df-c8775e5d-9df1-4830-9f39-3b04cd11f8c2');\n",
              "          const dataTable =\n",
              "            await google.colab.kernel.invokeFunction('convertToInteractive',\n",
              "                                                     [key], {});\n",
              "          if (!dataTable) return;\n",
              "\n",
              "          const docLinkHtml = 'Like what you see? Visit the ' +\n",
              "            '<a target=\"_blank\" href=https://colab.research.google.com/notebooks/data_table.ipynb>data table notebook</a>'\n",
              "            + ' to learn more about interactive tables.';\n",
              "          element.innerHTML = '';\n",
              "          dataTable['output_type'] = 'display_data';\n",
              "          await google.colab.output.renderOutput(dataTable, element);\n",
              "          const docLink = document.createElement('div');\n",
              "          docLink.innerHTML = docLinkHtml;\n",
              "          element.appendChild(docLink);\n",
              "        }\n",
              "      </script>\n",
              "    </div>\n",
              "  </div>\n",
              "  "
            ]
          },
          "metadata": {},
          "execution_count": 40
        }
      ]
    },
    {
      "cell_type": "code",
      "source": [
        "fitTable_near = buc.fitTable(param2, near, paramLabels=['I0','a','x0'])\n",
        "fitTable_near"
      ],
      "metadata": {
        "colab": {
          "base_uri": "https://localhost:8080/",
          "height": 112
        },
        "id": "a4J1LaBN-hR0",
        "outputId": "e2faf409-ff26-4173-b2f6-94eb21e488b4"
      },
      "execution_count": 41,
      "outputs": [
        {
          "output_type": "execute_result",
          "data": {
            "text/plain": [
              "                   I0         a        x0\n",
              "value        0.825903  3.432392  6.433024\n",
              "uncertainty  0.003263  0.029836  0.010795"
            ],
            "text/html": [
              "\n",
              "  <div id=\"df-174b7819-5dca-477e-94c6-ee726b537ad7\">\n",
              "    <div class=\"colab-df-container\">\n",
              "      <div>\n",
              "<style scoped>\n",
              "    .dataframe tbody tr th:only-of-type {\n",
              "        vertical-align: middle;\n",
              "    }\n",
              "\n",
              "    .dataframe tbody tr th {\n",
              "        vertical-align: top;\n",
              "    }\n",
              "\n",
              "    .dataframe thead th {\n",
              "        text-align: right;\n",
              "    }\n",
              "</style>\n",
              "<table border=\"1\" class=\"dataframe\">\n",
              "  <thead>\n",
              "    <tr style=\"text-align: right;\">\n",
              "      <th></th>\n",
              "      <th>I0</th>\n",
              "      <th>a</th>\n",
              "      <th>x0</th>\n",
              "    </tr>\n",
              "  </thead>\n",
              "  <tbody>\n",
              "    <tr>\n",
              "      <th>value</th>\n",
              "      <td>0.825903</td>\n",
              "      <td>3.432392</td>\n",
              "      <td>6.433024</td>\n",
              "    </tr>\n",
              "    <tr>\n",
              "      <th>uncertainty</th>\n",
              "      <td>0.003263</td>\n",
              "      <td>0.029836</td>\n",
              "      <td>0.010795</td>\n",
              "    </tr>\n",
              "  </tbody>\n",
              "</table>\n",
              "</div>\n",
              "      <button class=\"colab-df-convert\" onclick=\"convertToInteractive('df-174b7819-5dca-477e-94c6-ee726b537ad7')\"\n",
              "              title=\"Convert this dataframe to an interactive table.\"\n",
              "              style=\"display:none;\">\n",
              "        \n",
              "  <svg xmlns=\"http://www.w3.org/2000/svg\" height=\"24px\"viewBox=\"0 0 24 24\"\n",
              "       width=\"24px\">\n",
              "    <path d=\"M0 0h24v24H0V0z\" fill=\"none\"/>\n",
              "    <path d=\"M18.56 5.44l.94 2.06.94-2.06 2.06-.94-2.06-.94-.94-2.06-.94 2.06-2.06.94zm-11 1L8.5 8.5l.94-2.06 2.06-.94-2.06-.94L8.5 2.5l-.94 2.06-2.06.94zm10 10l.94 2.06.94-2.06 2.06-.94-2.06-.94-.94-2.06-.94 2.06-2.06.94z\"/><path d=\"M17.41 7.96l-1.37-1.37c-.4-.4-.92-.59-1.43-.59-.52 0-1.04.2-1.43.59L10.3 9.45l-7.72 7.72c-.78.78-.78 2.05 0 2.83L4 21.41c.39.39.9.59 1.41.59.51 0 1.02-.2 1.41-.59l7.78-7.78 2.81-2.81c.8-.78.8-2.07 0-2.86zM5.41 20L4 18.59l7.72-7.72 1.47 1.35L5.41 20z\"/>\n",
              "  </svg>\n",
              "      </button>\n",
              "      \n",
              "  <style>\n",
              "    .colab-df-container {\n",
              "      display:flex;\n",
              "      flex-wrap:wrap;\n",
              "      gap: 12px;\n",
              "    }\n",
              "\n",
              "    .colab-df-convert {\n",
              "      background-color: #E8F0FE;\n",
              "      border: none;\n",
              "      border-radius: 50%;\n",
              "      cursor: pointer;\n",
              "      display: none;\n",
              "      fill: #1967D2;\n",
              "      height: 32px;\n",
              "      padding: 0 0 0 0;\n",
              "      width: 32px;\n",
              "    }\n",
              "\n",
              "    .colab-df-convert:hover {\n",
              "      background-color: #E2EBFA;\n",
              "      box-shadow: 0px 1px 2px rgba(60, 64, 67, 0.3), 0px 1px 3px 1px rgba(60, 64, 67, 0.15);\n",
              "      fill: #174EA6;\n",
              "    }\n",
              "\n",
              "    [theme=dark] .colab-df-convert {\n",
              "      background-color: #3B4455;\n",
              "      fill: #D2E3FC;\n",
              "    }\n",
              "\n",
              "    [theme=dark] .colab-df-convert:hover {\n",
              "      background-color: #434B5C;\n",
              "      box-shadow: 0px 1px 3px 1px rgba(0, 0, 0, 0.15);\n",
              "      filter: drop-shadow(0px 1px 2px rgba(0, 0, 0, 0.3));\n",
              "      fill: #FFFFFF;\n",
              "    }\n",
              "  </style>\n",
              "\n",
              "      <script>\n",
              "        const buttonEl =\n",
              "          document.querySelector('#df-174b7819-5dca-477e-94c6-ee726b537ad7 button.colab-df-convert');\n",
              "        buttonEl.style.display =\n",
              "          google.colab.kernel.accessAllowed ? 'block' : 'none';\n",
              "\n",
              "        async function convertToInteractive(key) {\n",
              "          const element = document.querySelector('#df-174b7819-5dca-477e-94c6-ee726b537ad7');\n",
              "          const dataTable =\n",
              "            await google.colab.kernel.invokeFunction('convertToInteractive',\n",
              "                                                     [key], {});\n",
              "          if (!dataTable) return;\n",
              "\n",
              "          const docLinkHtml = 'Like what you see? Visit the ' +\n",
              "            '<a target=\"_blank\" href=https://colab.research.google.com/notebooks/data_table.ipynb>data table notebook</a>'\n",
              "            + ' to learn more about interactive tables.';\n",
              "          element.innerHTML = '';\n",
              "          dataTable['output_type'] = 'display_data';\n",
              "          await google.colab.output.renderOutput(dataTable, element);\n",
              "          const docLink = document.createElement('div');\n",
              "          docLink.innerHTML = docLinkHtml;\n",
              "          element.appendChild(docLink);\n",
              "        }\n",
              "      </script>\n",
              "    </div>\n",
              "  </div>\n",
              "  "
            ]
          },
          "metadata": {},
          "execution_count": 41
        }
      ]
    },
    {
      "cell_type": "code",
      "source": [
        "fig_ss, ax_ss = plt.subplots();\n",
        "\n",
        "ax_ss.scatter(x, V_near, marker='.', label=\"Near slit\");\n",
        "ax_ss.scatter(x, V_far, marker='.', label=\"Far slit\");\n",
        "\n",
        "ax_ss.set_xlabel(\"Position relative to center (mm)\");\n",
        "ax_ss.set_ylabel(\"Intensity (a.u.)\");\n",
        "ax_ss.legend();\n",
        "ax_ss.set_xlim();\n",
        "ax_ss.set_ylim();\n",
        "\n",
        "ax_ss.plot(x, df_far['Best fit']);\n",
        "ax_ss.plot(x, df_near['Best fit']);"
      ],
      "metadata": {
        "colab": {
          "base_uri": "https://localhost:8080/",
          "height": 279
        },
        "id": "R6DvJSDy8FyC",
        "outputId": "2d6494d5-02ce-4270-f590-7c8be822891f"
      },
      "execution_count": 42,
      "outputs": [
        {
          "output_type": "display_data",
          "data": {
            "text/plain": [
              "<Figure size 432x288 with 1 Axes>"
            ],
            "image/png": "[encoded data removed]"
          },
          "metadata": {
            "needs_background": "light"
          }
        }
      ]
    },
    {
      "cell_type": "markdown",
      "source": [
        "## Fits results\n",
        "\n",
        "\n",
        "### Far slit\n",
        "* $I_0 = 0.735945\t±0.001084$\n",
        "* $a = (3.534052±0.010065)\\ \\mathrm{mm}$\n",
        "* $x_0 = (5.422231 ± 0.003032)\\ \\mathrm{mm}$\n",
        "* The 95% confidence interval for the slit width is 3.524 to 3.544 mm.\n",
        "\n",
        "### Near slit\n",
        "* $I_0 = 0.825903\t± 0.003263$\n",
        "* $a = (3.432392±0.029836)\\ \\mathrm{mm}$\n",
        "* $x_0 = (6.433024 ± 0.010795)\\ \\mathrm{mm}$\n",
        "* The 95% confidence interval for the slit width is 3.402 to 3.462 mm.\n",
        "\n",
        "### Comparison\n",
        "* The slit witdh confidence intervals do not overlap.\n",
        "\n",
        "* The slit widths defer by 2.9%.\n",
        "* The intensities defer by 12.4%.\n",
        "\n"
      ],
      "metadata": {
        "id": "J9FRUkAI_vz6"
      }
    },
    {
      "cell_type": "markdown",
      "source": [
        "# Two-slit interference"
      ],
      "metadata": {
        "id": "3scecUzOHqq1"
      }
    },
    {
      "cell_type": "code",
      "source": [
        "def I_ts(x, I0, a, wavelength, x0, dI):\n",
        "    d = 0.406 # mm \n",
        "    q = np.arctan((x-x0)/distanceToDetector)\n",
        "    I2s = I0*np.sinc(a*np.sin(q)/wavelength)**2*np.cos(np.pi*d*np.sin(q)/wavelength)**2\n",
        "    return I2s + dI"
      ],
      "metadata": {
        "id": "8qMjkwRnJjta"
      },
      "execution_count": 66,
      "outputs": []
    },
    {
      "cell_type": "code",
      "source": [
        "param3, both = curve_fit(I_ts, x, df_both['Photodiode Voltage (V)'], p0=[3.5, .1, .000670, .1, .1])"
      ],
      "metadata": {
        "id": "eLCh6YhViPSz"
      },
      "execution_count": 121,
      "outputs": []
    },
    {
      "cell_type": "code",
      "source": [
        "fitTable_both = buc.fitTable(param3,both,paramLabels=['I0', 'a', 'wavelength', 'x0', 'dI'])\n",
        "fitTable_both"
      ],
      "metadata": {
        "id": "GUfUe_djMPRw",
        "outputId": "8d947bb6-640d-4e93-c30a-4554240353c6",
        "colab": {
          "base_uri": "https://localhost:8080/",
          "height": 147
        }
      },
      "execution_count": 120,
      "outputs": [
        {
          "output_type": "stream",
          "name": "stderr",
          "text": [
            "/usr/local/lib/python3.7/dist-packages/whit_phys_util/pretty_fit.py:22: RuntimeWarning: invalid value encountered in sqrt\n",
            "  return pd.DataFrame(data = [fitParam, ci_factor*np.sqrt(np.diagonal(fitCov))], columns = paramLabels, index = ['value', 'uncertainty'])\n"
          ]
        },
        {
          "output_type": "execute_result",
          "data": {
            "text/plain": [
              "                    I0             a  wavelength        x0        dI\n",
              "value        11.591163 -17333.500753    2.597567 -4.022228  0.977810\n",
              "uncertainty  17.648231           NaN         NaN  1.483132  0.494281"
            ],
            "text/html": [
              "\n",
              "  <div id=\"df-80a98453-c453-4b9f-98d0-d76c048f594a\">\n",
              "    <div class=\"colab-df-container\">\n",
              "      <div>\n",
              "<style scoped>\n",
              "    .dataframe tbody tr th:only-of-type {\n",
              "        vertical-align: middle;\n",
              "    }\n",
              "\n",
              "    .dataframe tbody tr th {\n",
              "        vertical-align: top;\n",
              "    }\n",
              "\n",
              "    .dataframe thead th {\n",
              "        text-align: right;\n",
              "    }\n",
              "</style>\n",
              "<table border=\"1\" class=\"dataframe\">\n",
              "  <thead>\n",
              "    <tr style=\"text-align: right;\">\n",
              "      <th></th>\n",
              "      <th>I0</th>\n",
              "      <th>a</th>\n",
              "      <th>wavelength</th>\n",
              "      <th>x0</th>\n",
              "      <th>dI</th>\n",
              "    </tr>\n",
              "  </thead>\n",
              "  <tbody>\n",
              "    <tr>\n",
              "      <th>value</th>\n",
              "      <td>11.591163</td>\n",
              "      <td>-17333.500753</td>\n",
              "      <td>2.597567</td>\n",
              "      <td>-4.022228</td>\n",
              "      <td>0.977810</td>\n",
              "    </tr>\n",
              "    <tr>\n",
              "      <th>uncertainty</th>\n",
              "      <td>17.648231</td>\n",
              "      <td>NaN</td>\n",
              "      <td>NaN</td>\n",
              "      <td>1.483132</td>\n",
              "      <td>0.494281</td>\n",
              "    </tr>\n",
              "  </tbody>\n",
              "</table>\n",
              "</div>\n",
              "      <button class=\"colab-df-convert\" onclick=\"convertToInteractive('df-80a98453-c453-4b9f-98d0-d76c048f594a')\"\n",
              "              title=\"Convert this dataframe to an interactive table.\"\n",
              "              style=\"display:none;\">\n",
              "        \n",
              "  <svg xmlns=\"http://www.w3.org/2000/svg\" height=\"24px\"viewBox=\"0 0 24 24\"\n",
              "       width=\"24px\">\n",
              "    <path d=\"M0 0h24v24H0V0z\" fill=\"none\"/>\n",
              "    <path d=\"M18.56 5.44l.94 2.06.94-2.06 2.06-.94-2.06-.94-.94-2.06-.94 2.06-2.06.94zm-11 1L8.5 8.5l.94-2.06 2.06-.94-2.06-.94L8.5 2.5l-.94 2.06-2.06.94zm10 10l.94 2.06.94-2.06 2.06-.94-2.06-.94-.94-2.06-.94 2.06-2.06.94z\"/><path d=\"M17.41 7.96l-1.37-1.37c-.4-.4-.92-.59-1.43-.59-.52 0-1.04.2-1.43.59L10.3 9.45l-7.72 7.72c-.78.78-.78 2.05 0 2.83L4 21.41c.39.39.9.59 1.41.59.51 0 1.02-.2 1.41-.59l7.78-7.78 2.81-2.81c.8-.78.8-2.07 0-2.86zM5.41 20L4 18.59l7.72-7.72 1.47 1.35L5.41 20z\"/>\n",
              "  </svg>\n",
              "      </button>\n",
              "      \n",
              "  <style>\n",
              "    .colab-df-container {\n",
              "      display:flex;\n",
              "      flex-wrap:wrap;\n",
              "      gap: 12px;\n",
              "    }\n",
              "\n",
              "    .colab-df-convert {\n",
              "      background-color: #E8F0FE;\n",
              "      border: none;\n",
              "      border-radius: 50%;\n",
              "      cursor: pointer;\n",
              "      display: none;\n",
              "      fill: #1967D2;\n",
              "      height: 32px;\n",
              "      padding: 0 0 0 0;\n",
              "      width: 32px;\n",
              "    }\n",
              "\n",
              "    .colab-df-convert:hover {\n",
              "      background-color: #E2EBFA;\n",
              "      box-shadow: 0px 1px 2px rgba(60, 64, 67, 0.3), 0px 1px 3px 1px rgba(60, 64, 67, 0.15);\n",
              "      fill: #174EA6;\n",
              "    }\n",
              "\n",
              "    [theme=dark] .colab-df-convert {\n",
              "      background-color: #3B4455;\n",
              "      fill: #D2E3FC;\n",
              "    }\n",
              "\n",
              "    [theme=dark] .colab-df-convert:hover {\n",
              "      background-color: #434B5C;\n",
              "      box-shadow: 0px 1px 3px 1px rgba(0, 0, 0, 0.15);\n",
              "      filter: drop-shadow(0px 1px 2px rgba(0, 0, 0, 0.3));\n",
              "      fill: #FFFFFF;\n",
              "    }\n",
              "  </style>\n",
              "\n",
              "      <script>\n",
              "        const buttonEl =\n",
              "          document.querySelector('#df-80a98453-c453-4b9f-98d0-d76c048f594a button.colab-df-convert');\n",
              "        buttonEl.style.display =\n",
              "          google.colab.kernel.accessAllowed ? 'block' : 'none';\n",
              "\n",
              "        async function convertToInteractive(key) {\n",
              "          const element = document.querySelector('#df-80a98453-c453-4b9f-98d0-d76c048f594a');\n",
              "          const dataTable =\n",
              "            await google.colab.kernel.invokeFunction('convertToInteractive',\n",
              "                                                     [key], {});\n",
              "          if (!dataTable) return;\n",
              "\n",
              "          const docLinkHtml = 'Like what you see? Visit the ' +\n",
              "            '<a target=\"_blank\" href=https://colab.research.google.com/notebooks/data_table.ipynb>data table notebook</a>'\n",
              "            + ' to learn more about interactive tables.';\n",
              "          element.innerHTML = '';\n",
              "          dataTable['output_type'] = 'display_data';\n",
              "          await google.colab.output.renderOutput(dataTable, element);\n",
              "          const docLink = document.createElement('div');\n",
              "          docLink.innerHTML = docLinkHtml;\n",
              "          element.appendChild(docLink);\n",
              "        }\n",
              "      </script>\n",
              "    </div>\n",
              "  </div>\n",
              "  "
            ]
          },
          "metadata": {},
          "execution_count": 120
        }
      ]
    },
    {
      "cell_type": "code",
      "source": [
        "t_fit = np.linspace(-2,2,500);\n",
        "t_bestFit = I_ts(t_fit, *param3)"
      ],
      "metadata": {
        "id": "X5lJasrwfHhU"
      },
      "execution_count": 112,
      "outputs": []
    },
    {
      "cell_type": "code",
      "source": [
        "fig_ts, ax_ts = plt.subplots();\n",
        "\n",
        "ax_ts.scatter(x, V_both, marker = '.', label= \"Both slits\");\n",
        "ax_ts.set_xlim(-2,2);\n",
        "ax_ts.set_ylim(0,3);\n",
        "ax_ts.set_xlabel(\"Position relative to center (mm)\");\n",
        "ax_ts.set_ylabel(\"Intensity (a.u)\");\n",
        "\n",
        "ax_ts.plot(t_fit, t_bestFit);"
      ],
      "metadata": {
        "id": "y0hQNFePBu7S",
        "colab": {
          "base_uri": "https://localhost:8080/",
          "height": 283
        },
        "outputId": "e9a100dd-63ae-4cf5-9a49-5d39e434935f"
      },
      "execution_count": 116,
      "outputs": [
        {
          "output_type": "display_data",
          "data": {
            "text/plain": [
              "<Figure size 432x288 with 1 Axes>"
            ],
            "image/png": "[encoded data removed]"
          },
          "metadata": {
            "needs_background": "light"
          }
        }
      ]
    },
    {
      "cell_type": "markdown",
      "source": [
        "The laser specifications were that its wavelength was between 665 and 675 nm. The calculated 95% confidence interval for the wavelength is ???? to ???? nm so this falls ?inside/outside? the specified range.\n",
        "\n",
        "The manufacturer's specifications were that the slit width was 0.1 mm. The calculated 95% confidence interval for the slit width is ???? to ???? mm so this falls ?inside/outside? the specified range.\n"
      ],
      "metadata": {
        "id": "fra1YJ9BTceJ"
      }
    },
    {
      "cell_type": "markdown",
      "source": [
        "# Reflection"
      ],
      "metadata": {
        "id": "fWb0LHhPmjVw"
      }
    },
    {
      "cell_type": "markdown",
      "source": [
        "3) In our single slit experiments, we found that the far slit recieved more light than the near slit. This is likely due to imperfections in how we calibrated the slights and/or light source. This manifested on the double slit graph by shifting the maximum intensity towards the far slit relative to the center. This makes sense as larger proportion of the light in the double slit experiment would come from the fat slit, which is on the side of the offset from the center. \n",
        "\n",
        "4) We did fairly well in finding the center location. While $x_0$ was not exactly 0, it was small enough to not massively impact our graph.\n",
        "\n",
        "5) "
      ],
      "metadata": {
        "id": "yDvW8mOLmlVp"
      }
    },
    {
      "cell_type": "code",
      "source": [],
      "metadata": {
        "id": "bo4Y-X5EJVB8"
      },
      "execution_count": 16,
      "outputs": []
    }
  ]
}
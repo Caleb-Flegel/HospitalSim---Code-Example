{
  "nbformat": 4,
  "nbformat_minor": 0,
  "metadata": {
    "colab": {
      "name": "Photoelectric Effect.ipynb",
      "provenance": [],
      "collapsed_sections": [],
      "include_colab_link": true
    },
    "kernelspec": {
      "name": "python3",
      "display_name": "Python 3"
    },
    "language_info": {
      "name": "python"
    }
  },
  "cells": [
    {
      "cell_type": "markdown",
      "metadata": {
        "id": "view-in-github",
        "colab_type": "text"
      },
      "source": [
        "<a href=\"https://colab.research.google.com/github/Caleb-Flegel/CS2---Code-Example/blob/master/Photoelectric_Effect.ipynb\" target=\"_parent\"><img src=\"https://colab.research.google.com/assets/colab-badge.svg\" alt=\"Open In Colab\"/></a>"
      ]
    },
    {
      "cell_type": "markdown",
      "metadata": {
        "id": "q3RGqGK9Scls"
      },
      "source": [
        "Partner: Caleb Flegel & Josh Demant\n",
        "\n",
        "Date: 11/8/22"
      ]
    },
    {
      "cell_type": "markdown",
      "metadata": {
        "id": "WRrSX_44WNmo"
      },
      "source": [
        "# Objectives\n",
        "* To verify that there is a linear relationship between stopping voltage and the inverse wavelength of the exciting light in a photoelectric effect apparatus.\n",
        "* To calculate Planck's constant from the slope of the best fit line to the stopping voltage vs. inverse wavelength data."
      ]
    },
    {
      "cell_type": "markdown",
      "metadata": {
        "id": "bf9uRh5aTh0C"
      },
      "source": [
        "# Install and import libraries"
      ]
    },
    {
      "cell_type": "code",
      "metadata": {
        "id": "ID4bUeLoSUqf",
        "colab": {
          "base_uri": "https://localhost:8080/"
        },
        "outputId": "c587555d-a64c-4007-bff8-e4917182a020"
      },
      "source": [
        "!pip install whit-phys-util"
      ],
      "execution_count": 4,
      "outputs": [
        {
          "output_type": "stream",
          "name": "stdout",
          "text": [
            "Looking in indexes: https://pypi.org/simple, https://us-python.pkg.dev/colab-wheels/public/simple/\n",
            "Requirement already satisfied: whit-phys-util in /usr/local/lib/python3.7/dist-packages (0.2.7)\n",
            "Requirement already satisfied: pydantic>=1.7.3 in /usr/local/lib/python3.7/dist-packages (from whit-phys-util) (1.10.2)\n",
            "Requirement already satisfied: python-dotenv>=0.10.4 in /usr/local/lib/python3.7/dist-packages (from whit-phys-util) (0.21.0)\n",
            "Requirement already satisfied: typing-extensions>=4.1.0 in /usr/local/lib/python3.7/dist-packages (from pydantic>=1.7.3->whit-phys-util) (4.1.1)\n"
          ]
        }
      ]
    },
    {
      "cell_type": "code",
      "metadata": {
        "id": "iXrGRQXcT0Qs"
      },
      "source": [
        "import numpy as np\n",
        "import pandas as pd\n",
        "import matplotlib.pyplot as plt\n",
        "import whit_phys_util as buc\n",
        "import scipy.constants as sciConst"
      ],
      "execution_count": 5,
      "outputs": []
    },
    {
      "cell_type": "markdown",
      "metadata": {
        "id": "qk5YfEAzT3rK"
      },
      "source": [
        "# Connect to GitHub"
      ]
    },
    {
      "cell_type": "code",
      "metadata": {
        "id": "-yvt5gjGVDQ8",
        "colab": {
          "base_uri": "https://localhost:8080/"
        },
        "outputId": "4ecef2e7-4342-441e-c3f1-fc42b3a9e11f"
      },
      "source": [
        "repo = buc.local_repository(\"https://github.com/PS251-FA22/photoelectric-effect-1eagle\")"
      ],
      "execution_count": 6,
      "outputs": [
        {
          "output_type": "stream",
          "name": "stdout",
          "text": [
            "Repository exists at this location. Pulling changes from GitHub.\n"
          ]
        }
      ]
    },
    {
      "cell_type": "markdown",
      "metadata": {
        "id": "j1M-y_icVGWJ"
      },
      "source": [
        "# Equipment and materials\n",
        "| Description | Manufacturer | Model | ID or SN |\n",
        "| ----------- | ------------ | ----- | -------- |\n",
        "| photoelectric effect apparatus | Daedalon | EP-05 | 1288 |\n",
        "| mercury arc lamp | PASCO | OS-9286 | 001256 |\n",
        "| sodium arc lamp | PASCO | OS-9287 | 001259 |\n",
        "| digital multimeter | Fluke | 179 | 58870128 |\n",
        "| banana cables | --- | --- | --- |\n",
        "| blue and green optical filters | --- | --- | --- |\n",
        "| handheld spectrometer | Project Star | Spectrometer | --- |\n",
        "\n",
        "_You should replace the **fill in** entries with appropriate info._\n"
      ]
    },
    {
      "cell_type": "markdown",
      "metadata": {
        "id": "5wARvsKZWp95"
      },
      "source": [
        "# Observations of light sources\n",
        "\n",
        "## Incandescent\n",
        "The Incandescent lights emits the full spectrum of visible (and presumably a lot of non-visible) light. \n",
        "\n",
        "## Fluorescent\n",
        "The flourescent lamps emitted most of the colors on the visible spectrum, however the difference is that the emitted light is in the form of much more distict bands. For example there was a green band at around ~555nm and a red band at around ~640nm.\n",
        "\n",
        "## Mercury\n",
        "The light from the mercury lamp was split into three distinctive bands of visible light. Other than the expected bands at ~546nm and ~436nm, we observed an amber band at ~672nm and a blue-green band at ~494nm. Some of the bands between the mercury lamp and the fluorescent light overlapped as the florescent light also uses mercury to prosuce light.\n",
        "\n",
        "##Sodium\n",
        "  The sodium lamp emits a full spectrum of visible light split into numerous color bands. However, one band at ~590nm is much brighter than any of the other bands."
      ]
    },
    {
      "cell_type": "markdown",
      "metadata": {
        "id": "ixiim0TMGZJh"
      },
      "source": [
        "# Import data"
      ]
    },
    {
      "cell_type": "code",
      "metadata": {
        "id": "gQUTtSNBilUI"
      },
      "source": [
        "repo.pull()\n",
        "df_pc = pd.read_table(\"photocurrent_vs_retarding_potential.tsv\")\n",
        "df_stop = pd.read_table(\"stopping_voltages.tsv\")"
      ],
      "execution_count": 14,
      "outputs": []
    },
    {
      "cell_type": "code",
      "source": [
        "df_pc"
      ],
      "metadata": {
        "colab": {
          "base_uri": "https://localhost:8080/",
          "height": 394
        },
        "id": "U6ZF8G9xWgxt",
        "outputId": "3e759936-23ab-42a2-a676-3966a570c82f"
      },
      "execution_count": 15,
      "outputs": [
        {
          "output_type": "execute_result",
          "data": {
            "text/plain": [
              "    Retarding Potential (V)  Photocurrent(a.u.)\n",
              "0                     0.035                 8.0\n",
              "1                     0.145                 6.0\n",
              "2                     0.268                 4.0\n",
              "3                     0.342                 3.0\n",
              "4                     0.444                 2.0\n",
              "5                     0.584                 1.0\n",
              "6                     0.621                 0.8\n",
              "7                     0.666                 0.6\n",
              "8                     0.846                 0.4\n",
              "9                     0.891                 0.2\n",
              "10                    1.031                 0.0"
            ],
            "text/html": [
              "\n",
              "  <div id=\"df-c02e8e47-b14d-4828-9db0-39e0b4ce7bb1\">\n",
              "    <div class=\"colab-df-container\">\n",
              "      <div>\n",
              "<style scoped>\n",
              "    .dataframe tbody tr th:only-of-type {\n",
              "        vertical-align: middle;\n",
              "    }\n",
              "\n",
              "    .dataframe tbody tr th {\n",
              "        vertical-align: top;\n",
              "    }\n",
              "\n",
              "    .dataframe thead th {\n",
              "        text-align: right;\n",
              "    }\n",
              "</style>\n",
              "<table border=\"1\" class=\"dataframe\">\n",
              "  <thead>\n",
              "    <tr style=\"text-align: right;\">\n",
              "      <th></th>\n",
              "      <th>Retarding Potential (V)</th>\n",
              "      <th>Photocurrent(a.u.)</th>\n",
              "    </tr>\n",
              "  </thead>\n",
              "  <tbody>\n",
              "    <tr>\n",
              "      <th>0</th>\n",
              "      <td>0.035</td>\n",
              "      <td>8.0</td>\n",
              "    </tr>\n",
              "    <tr>\n",
              "      <th>1</th>\n",
              "      <td>0.145</td>\n",
              "      <td>6.0</td>\n",
              "    </tr>\n",
              "    <tr>\n",
              "      <th>2</th>\n",
              "      <td>0.268</td>\n",
              "      <td>4.0</td>\n",
              "    </tr>\n",
              "    <tr>\n",
              "      <th>3</th>\n",
              "      <td>0.342</td>\n",
              "      <td>3.0</td>\n",
              "    </tr>\n",
              "    <tr>\n",
              "      <th>4</th>\n",
              "      <td>0.444</td>\n",
              "      <td>2.0</td>\n",
              "    </tr>\n",
              "    <tr>\n",
              "      <th>5</th>\n",
              "      <td>0.584</td>\n",
              "      <td>1.0</td>\n",
              "    </tr>\n",
              "    <tr>\n",
              "      <th>6</th>\n",
              "      <td>0.621</td>\n",
              "      <td>0.8</td>\n",
              "    </tr>\n",
              "    <tr>\n",
              "      <th>7</th>\n",
              "      <td>0.666</td>\n",
              "      <td>0.6</td>\n",
              "    </tr>\n",
              "    <tr>\n",
              "      <th>8</th>\n",
              "      <td>0.846</td>\n",
              "      <td>0.4</td>\n",
              "    </tr>\n",
              "    <tr>\n",
              "      <th>9</th>\n",
              "      <td>0.891</td>\n",
              "      <td>0.2</td>\n",
              "    </tr>\n",
              "    <tr>\n",
              "      <th>10</th>\n",
              "      <td>1.031</td>\n",
              "      <td>0.0</td>\n",
              "    </tr>\n",
              "  </tbody>\n",
              "</table>\n",
              "</div>\n",
              "      <button class=\"colab-df-convert\" onclick=\"convertToInteractive('df-c02e8e47-b14d-4828-9db0-39e0b4ce7bb1')\"\n",
              "              title=\"Convert this dataframe to an interactive table.\"\n",
              "              style=\"display:none;\">\n",
              "        \n",
              "  <svg xmlns=\"http://www.w3.org/2000/svg\" height=\"24px\"viewBox=\"0 0 24 24\"\n",
              "       width=\"24px\">\n",
              "    <path d=\"M0 0h24v24H0V0z\" fill=\"none\"/>\n",
              "    <path d=\"M18.56 5.44l.94 2.06.94-2.06 2.06-.94-2.06-.94-.94-2.06-.94 2.06-2.06.94zm-11 1L8.5 8.5l.94-2.06 2.06-.94-2.06-.94L8.5 2.5l-.94 2.06-2.06.94zm10 10l.94 2.06.94-2.06 2.06-.94-2.06-.94-.94-2.06-.94 2.06-2.06.94z\"/><path d=\"M17.41 7.96l-1.37-1.37c-.4-.4-.92-.59-1.43-.59-.52 0-1.04.2-1.43.59L10.3 9.45l-7.72 7.72c-.78.78-.78 2.05 0 2.83L4 21.41c.39.39.9.59 1.41.59.51 0 1.02-.2 1.41-.59l7.78-7.78 2.81-2.81c.8-.78.8-2.07 0-2.86zM5.41 20L4 18.59l7.72-7.72 1.47 1.35L5.41 20z\"/>\n",
              "  </svg>\n",
              "      </button>\n",
              "      \n",
              "  <style>\n",
              "    .colab-df-container {\n",
              "      display:flex;\n",
              "      flex-wrap:wrap;\n",
              "      gap: 12px;\n",
              "    }\n",
              "\n",
              "    .colab-df-convert {\n",
              "      background-color: #E8F0FE;\n",
              "      border: none;\n",
              "      border-radius: 50%;\n",
              "      cursor: pointer;\n",
              "      display: none;\n",
              "      fill: #1967D2;\n",
              "      height: 32px;\n",
              "      padding: 0 0 0 0;\n",
              "      width: 32px;\n",
              "    }\n",
              "\n",
              "    .colab-df-convert:hover {\n",
              "      background-color: #E2EBFA;\n",
              "      box-shadow: 0px 1px 2px rgba(60, 64, 67, 0.3), 0px 1px 3px 1px rgba(60, 64, 67, 0.15);\n",
              "      fill: #174EA6;\n",
              "    }\n",
              "\n",
              "    [theme=dark] .colab-df-convert {\n",
              "      background-color: #3B4455;\n",
              "      fill: #D2E3FC;\n",
              "    }\n",
              "\n",
              "    [theme=dark] .colab-df-convert:hover {\n",
              "      background-color: #434B5C;\n",
              "      box-shadow: 0px 1px 3px 1px rgba(0, 0, 0, 0.15);\n",
              "      filter: drop-shadow(0px 1px 2px rgba(0, 0, 0, 0.3));\n",
              "      fill: #FFFFFF;\n",
              "    }\n",
              "  </style>\n",
              "\n",
              "      <script>\n",
              "        const buttonEl =\n",
              "          document.querySelector('#df-c02e8e47-b14d-4828-9db0-39e0b4ce7bb1 button.colab-df-convert');\n",
              "        buttonEl.style.display =\n",
              "          google.colab.kernel.accessAllowed ? 'block' : 'none';\n",
              "\n",
              "        async function convertToInteractive(key) {\n",
              "          const element = document.querySelector('#df-c02e8e47-b14d-4828-9db0-39e0b4ce7bb1');\n",
              "          const dataTable =\n",
              "            await google.colab.kernel.invokeFunction('convertToInteractive',\n",
              "                                                     [key], {});\n",
              "          if (!dataTable) return;\n",
              "\n",
              "          const docLinkHtml = 'Like what you see? Visit the ' +\n",
              "            '<a target=\"_blank\" href=https://colab.research.google.com/notebooks/data_table.ipynb>data table notebook</a>'\n",
              "            + ' to learn more about interactive tables.';\n",
              "          element.innerHTML = '';\n",
              "          dataTable['output_type'] = 'display_data';\n",
              "          await google.colab.output.renderOutput(dataTable, element);\n",
              "          const docLink = document.createElement('div');\n",
              "          docLink.innerHTML = docLinkHtml;\n",
              "          element.appendChild(docLink);\n",
              "        }\n",
              "      </script>\n",
              "    </div>\n",
              "  </div>\n",
              "  "
            ]
          },
          "metadata": {},
          "execution_count": 15
        }
      ]
    },
    {
      "cell_type": "code",
      "source": [
        "df_stop"
      ],
      "metadata": {
        "colab": {
          "base_uri": "https://localhost:8080/",
          "height": 363
        },
        "id": "9rdc_TUGWkOO",
        "outputId": "142d5f6e-bd9c-45f8-bf13-5ae7d7e90785"
      },
      "execution_count": 16,
      "outputs": [
        {
          "output_type": "execute_result",
          "data": {
            "text/plain": [
              "   Hg (435.8 nm)  Hg (546.0 nm)  Na (589.3 nm)\n",
              "0          1.045          0.475          0.532\n",
              "1          1.008          0.456          0.532\n",
              "2          0.997          0.490          0.509\n",
              "3          0.998          0.495          0.528\n",
              "4          1.001          0.465          0.526\n",
              "5          0.994          0.454          0.498\n",
              "6          1.008          0.481          0.507\n",
              "7          1.063          0.488          0.517\n",
              "8          1.028          0.446          0.504\n",
              "9          1.031          0.485          0.508"
            ],
            "text/html": [
              "\n",
              "  <div id=\"df-e586cf54-6488-465e-95bd-1208e4c6458e\">\n",
              "    <div class=\"colab-df-container\">\n",
              "      <div>\n",
              "<style scoped>\n",
              "    .dataframe tbody tr th:only-of-type {\n",
              "        vertical-align: middle;\n",
              "    }\n",
              "\n",
              "    .dataframe tbody tr th {\n",
              "        vertical-align: top;\n",
              "    }\n",
              "\n",
              "    .dataframe thead th {\n",
              "        text-align: right;\n",
              "    }\n",
              "</style>\n",
              "<table border=\"1\" class=\"dataframe\">\n",
              "  <thead>\n",
              "    <tr style=\"text-align: right;\">\n",
              "      <th></th>\n",
              "      <th>Hg (435.8 nm)</th>\n",
              "      <th>Hg (546.0 nm)</th>\n",
              "      <th>Na (589.3 nm)</th>\n",
              "    </tr>\n",
              "  </thead>\n",
              "  <tbody>\n",
              "    <tr>\n",
              "      <th>0</th>\n",
              "      <td>1.045</td>\n",
              "      <td>0.475</td>\n",
              "      <td>0.532</td>\n",
              "    </tr>\n",
              "    <tr>\n",
              "      <th>1</th>\n",
              "      <td>1.008</td>\n",
              "      <td>0.456</td>\n",
              "      <td>0.532</td>\n",
              "    </tr>\n",
              "    <tr>\n",
              "      <th>2</th>\n",
              "      <td>0.997</td>\n",
              "      <td>0.490</td>\n",
              "      <td>0.509</td>\n",
              "    </tr>\n",
              "    <tr>\n",
              "      <th>3</th>\n",
              "      <td>0.998</td>\n",
              "      <td>0.495</td>\n",
              "      <td>0.528</td>\n",
              "    </tr>\n",
              "    <tr>\n",
              "      <th>4</th>\n",
              "      <td>1.001</td>\n",
              "      <td>0.465</td>\n",
              "      <td>0.526</td>\n",
              "    </tr>\n",
              "    <tr>\n",
              "      <th>5</th>\n",
              "      <td>0.994</td>\n",
              "      <td>0.454</td>\n",
              "      <td>0.498</td>\n",
              "    </tr>\n",
              "    <tr>\n",
              "      <th>6</th>\n",
              "      <td>1.008</td>\n",
              "      <td>0.481</td>\n",
              "      <td>0.507</td>\n",
              "    </tr>\n",
              "    <tr>\n",
              "      <th>7</th>\n",
              "      <td>1.063</td>\n",
              "      <td>0.488</td>\n",
              "      <td>0.517</td>\n",
              "    </tr>\n",
              "    <tr>\n",
              "      <th>8</th>\n",
              "      <td>1.028</td>\n",
              "      <td>0.446</td>\n",
              "      <td>0.504</td>\n",
              "    </tr>\n",
              "    <tr>\n",
              "      <th>9</th>\n",
              "      <td>1.031</td>\n",
              "      <td>0.485</td>\n",
              "      <td>0.508</td>\n",
              "    </tr>\n",
              "  </tbody>\n",
              "</table>\n",
              "</div>\n",
              "      <button class=\"colab-df-convert\" onclick=\"convertToInteractive('df-e586cf54-6488-465e-95bd-1208e4c6458e')\"\n",
              "              title=\"Convert this dataframe to an interactive table.\"\n",
              "              style=\"display:none;\">\n",
              "        \n",
              "  <svg xmlns=\"http://www.w3.org/2000/svg\" height=\"24px\"viewBox=\"0 0 24 24\"\n",
              "       width=\"24px\">\n",
              "    <path d=\"M0 0h24v24H0V0z\" fill=\"none\"/>\n",
              "    <path d=\"M18.56 5.44l.94 2.06.94-2.06 2.06-.94-2.06-.94-.94-2.06-.94 2.06-2.06.94zm-11 1L8.5 8.5l.94-2.06 2.06-.94-2.06-.94L8.5 2.5l-.94 2.06-2.06.94zm10 10l.94 2.06.94-2.06 2.06-.94-2.06-.94-.94-2.06-.94 2.06-2.06.94z\"/><path d=\"M17.41 7.96l-1.37-1.37c-.4-.4-.92-.59-1.43-.59-.52 0-1.04.2-1.43.59L10.3 9.45l-7.72 7.72c-.78.78-.78 2.05 0 2.83L4 21.41c.39.39.9.59 1.41.59.51 0 1.02-.2 1.41-.59l7.78-7.78 2.81-2.81c.8-.78.8-2.07 0-2.86zM5.41 20L4 18.59l7.72-7.72 1.47 1.35L5.41 20z\"/>\n",
              "  </svg>\n",
              "      </button>\n",
              "      \n",
              "  <style>\n",
              "    .colab-df-container {\n",
              "      display:flex;\n",
              "      flex-wrap:wrap;\n",
              "      gap: 12px;\n",
              "    }\n",
              "\n",
              "    .colab-df-convert {\n",
              "      background-color: #E8F0FE;\n",
              "      border: none;\n",
              "      border-radius: 50%;\n",
              "      cursor: pointer;\n",
              "      display: none;\n",
              "      fill: #1967D2;\n",
              "      height: 32px;\n",
              "      padding: 0 0 0 0;\n",
              "      width: 32px;\n",
              "    }\n",
              "\n",
              "    .colab-df-convert:hover {\n",
              "      background-color: #E2EBFA;\n",
              "      box-shadow: 0px 1px 2px rgba(60, 64, 67, 0.3), 0px 1px 3px 1px rgba(60, 64, 67, 0.15);\n",
              "      fill: #174EA6;\n",
              "    }\n",
              "\n",
              "    [theme=dark] .colab-df-convert {\n",
              "      background-color: #3B4455;\n",
              "      fill: #D2E3FC;\n",
              "    }\n",
              "\n",
              "    [theme=dark] .colab-df-convert:hover {\n",
              "      background-color: #434B5C;\n",
              "      box-shadow: 0px 1px 3px 1px rgba(0, 0, 0, 0.15);\n",
              "      filter: drop-shadow(0px 1px 2px rgba(0, 0, 0, 0.3));\n",
              "      fill: #FFFFFF;\n",
              "    }\n",
              "  </style>\n",
              "\n",
              "      <script>\n",
              "        const buttonEl =\n",
              "          document.querySelector('#df-e586cf54-6488-465e-95bd-1208e4c6458e button.colab-df-convert');\n",
              "        buttonEl.style.display =\n",
              "          google.colab.kernel.accessAllowed ? 'block' : 'none';\n",
              "\n",
              "        async function convertToInteractive(key) {\n",
              "          const element = document.querySelector('#df-e586cf54-6488-465e-95bd-1208e4c6458e');\n",
              "          const dataTable =\n",
              "            await google.colab.kernel.invokeFunction('convertToInteractive',\n",
              "                                                     [key], {});\n",
              "          if (!dataTable) return;\n",
              "\n",
              "          const docLinkHtml = 'Like what you see? Visit the ' +\n",
              "            '<a target=\"_blank\" href=https://colab.research.google.com/notebooks/data_table.ipynb>data table notebook</a>'\n",
              "            + ' to learn more about interactive tables.';\n",
              "          element.innerHTML = '';\n",
              "          dataTable['output_type'] = 'display_data';\n",
              "          await google.colab.output.renderOutput(dataTable, element);\n",
              "          const docLink = document.createElement('div');\n",
              "          docLink.innerHTML = docLinkHtml;\n",
              "          element.appendChild(docLink);\n",
              "        }\n",
              "      </script>\n",
              "    </div>\n",
              "  </div>\n",
              "  "
            ]
          },
          "metadata": {},
          "execution_count": 16
        }
      ]
    },
    {
      "cell_type": "markdown",
      "metadata": {
        "id": "UoOHTv5SJS3Z"
      },
      "source": [
        "# Analysis"
      ]
    },
    {
      "cell_type": "markdown",
      "source": [
        "## Dependence of photocurrent on retarding potential\n",
        "435.8 nm light from a Hg lamp illuminated the cathode and the photocurrent was measured as the retarding potential was increased."
      ],
      "metadata": {
        "id": "tdnIENH5XGEs"
      }
    },
    {
      "cell_type": "code",
      "source": [
        "fig1, ax1 = plt.subplots()\n",
        "ax1.plot(df_pc['Retarding Potential (V)'], df_pc['Photocurrent(a.u.)'], 'o-');\n",
        "\n",
        "ax1.set_xlabel(\"Retarding Potential (V)\");\n",
        "ax1.set_ylabel(\"Photocurrent(a.u.)\");\n",
        "ax1.set_xlim(0.0, 1.2);\n",
        "ax1.set_ylim(0.0, 10.0);"
      ],
      "metadata": {
        "colab": {
          "base_uri": "https://localhost:8080/",
          "height": 300
        },
        "id": "FCnGFscAXV99",
        "outputId": "e4720b95-fef0-4c59-98fb-22fec2d7cfd4"
      },
      "execution_count": 25,
      "outputs": [
        {
          "output_type": "execute_result",
          "data": {
            "text/plain": [
              "(0.0, 10.0)"
            ]
          },
          "metadata": {},
          "execution_count": 25
        },
        {
          "output_type": "display_data",
          "data": {
            "text/plain": [
              "<Figure size 432x288 with 1 Axes>"
            ],
            "image/png": "[encoded data removed]"
          },
          "metadata": {
            "needs_background": "light"
          }
        }
      ]
    },
    {
      "cell_type": "markdown",
      "source": [
        "## Dependence of stopping voltage on wavelength\n",
        "Stopping voltage in a photoelectric effect apparatus was measured using light with wavelengths betweeen 435.8 and 589.3 nm. This data is used to determine planks constant"
      ],
      "metadata": {
        "id": "Ut_IFJZFZXlW"
      }
    },
    {
      "cell_type": "code",
      "metadata": {
        "id": "6k-HHoNXJVFk"
      },
      "source": [
        "Vstop_blue = df_stop['Hg (435.8 nm)']\n",
        "Vstop_green = df_stop['Hg (546.0 nm)']\n",
        "Vstop_orange = df_stop['Na (589.3 nm)']"
      ],
      "execution_count": 26,
      "outputs": []
    },
    {
      "cell_type": "code",
      "source": [
        "Vstop = np.array([Vstop_blue.mean(), Vstop_green.mean(), Vstop_orange.mean()])\n",
        "\n",
        "dVstop = np.array([Vstop_blue.sem(), Vstop_green.sem(), Vstop_orange.sem()])\n",
        "dVstop *= 2 #convert to 95% CI\n",
        "\n",
        "invWavelength = np.array([1/435.8, 1/546.0, 1/589.3])"
      ],
      "metadata": {
        "id": "LQc9OUonaRUQ"
      },
      "execution_count": 27,
      "outputs": []
    },
    {
      "cell_type": "code",
      "source": [
        "fig2, ax2 = plt.subplots()\n",
        "ax2.plot(invWavelength, Vstop);\n",
        "\n",
        "ax2.set_xlabel(\"Stopping Voltage (v)\");\n",
        "ax2.set_ylabel(\"Inverse Wavelength (1/nm)\");\n",
        "#ax2.set_xlim(0.4, 1.2);\n",
        "#ax2.set_ylim(0.0016, 0.0024);"
      ],
      "metadata": {
        "id": "IF33ip0OcWyE",
        "outputId": "c5baeb19-1a53-404d-af79-f4f23757234e",
        "colab": {
          "base_uri": "https://localhost:8080/",
          "height": 279
        }
      },
      "execution_count": 33,
      "outputs": [
        {
          "output_type": "display_data",
          "data": {
            "text/plain": [
              "<Figure size 432x288 with 1 Axes>"
            ],
            "image/png": "[encoded data removed]"
          },
          "metadata": {
            "needs_background": "light"
          }
        }
      ]
    },
    {
      "cell_type": "code",
      "source": [],
      "metadata": {
        "id": "R0gd9XVZcjL1"
      },
      "execution_count": null,
      "outputs": []
    }
  ]
}
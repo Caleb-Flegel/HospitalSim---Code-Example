{
  "nbformat": 4,
  "nbformat_minor": 0,
  "metadata": {
    "colab": {
      "name": "Two_Slit_Dim_Light.ipynb",
      "provenance": [],
      "include_colab_link": true
    },
    "kernelspec": {
      "name": "python3",
      "display_name": "Python 3"
    },
    "language_info": {
      "name": "python"
    }
  },
  "cells": [
    {
      "cell_type": "markdown",
      "metadata": {
        "id": "view-in-github",
        "colab_type": "text"
      },
      "source": [
        "<a href=\"https://colab.research.google.com/github/Caleb-Flegel/CS2---Code-Example/blob/master/Two_Slit_Dim_Light.ipynb\" target=\"_parent\"><img src=\"https://colab.research.google.com/assets/colab-badge.svg\" alt=\"Open In Colab\"/></a>"
      ]
    },
    {
      "cell_type": "markdown",
      "metadata": {
        "id": "gr4-v-8qF6qK"
      },
      "source": [
        "Partner: Caleb Flegel & Zach Washburn\n",
        "\n",
        "Date: 10/04/2022"
      ]
    },
    {
      "cell_type": "markdown",
      "metadata": {
        "id": "UUqYCGFhF9-i"
      },
      "source": [
        "# Objectives"
      ]
    },
    {
      "cell_type": "markdown",
      "metadata": {
        "id": "-q8pbADeGBxK"
      },
      "source": [
        "# Install and import libraries"
      ]
    },
    {
      "cell_type": "code",
      "metadata": {
        "id": "adHFKDQJF6Va",
        "colab": {
          "base_uri": "https://localhost:8080/"
        },
        "outputId": "0426400a-1994-4b68-d321-7e4eadbbb520"
      },
      "source": [
        "!pip install whit-phys-util"
      ],
      "execution_count": 1,
      "outputs": [
        {
          "output_type": "stream",
          "name": "stdout",
          "text": [
            "Looking in indexes: https://pypi.org/simple, https://us-python.pkg.dev/colab-wheels/public/simple/\n",
            "Requirement already satisfied: whit-phys-util in /usr/local/lib/python3.7/dist-packages (0.2.7)\n",
            "Requirement already satisfied: python-dotenv>=0.10.4 in /usr/local/lib/python3.7/dist-packages (from whit-phys-util) (0.21.0)\n",
            "Requirement already satisfied: pydantic>=1.7.3 in /usr/local/lib/python3.7/dist-packages (from whit-phys-util) (1.9.2)\n",
            "Requirement already satisfied: typing-extensions>=3.7.4.3 in /usr/local/lib/python3.7/dist-packages (from pydantic>=1.7.3->whit-phys-util) (4.1.1)\n"
          ]
        }
      ]
    },
    {
      "cell_type": "code",
      "metadata": {
        "id": "rKOVAxOjF0zp"
      },
      "source": [
        "import numpy as np\n",
        "import pandas as pd\n",
        "import matplotlib.pyplot as plt\n",
        "from scipy.optimize import curve_fit\n",
        "import whit_phys_util as buc"
      ],
      "execution_count": 2,
      "outputs": []
    },
    {
      "cell_type": "markdown",
      "metadata": {
        "id": "NijonVUcGI9j"
      },
      "source": [
        "# Connect to GitHub"
      ]
    },
    {
      "cell_type": "code",
      "metadata": {
        "id": "k_QwpmjkGKie",
        "colab": {
          "base_uri": "https://localhost:8080/"
        },
        "outputId": "945691f0-3bc3-4f61-e71a-b1723ef66519"
      },
      "source": [
        "repo = buc.local_repository(\"https://github.com/PS251-FA22/two-slit-dim-light-1b\")"
      ],
      "execution_count": 3,
      "outputs": [
        {
          "output_type": "stream",
          "name": "stdout",
          "text": [
            "Repository exists at this location. Pulling changes from GitHub.\n"
          ]
        }
      ]
    },
    {
      "cell_type": "markdown",
      "metadata": {
        "id": "AS3tOYVcGNwq"
      },
      "source": [
        "# Equipment\n",
        "\n",
        "| Description | Manufacturer | Model | ID or SN |\n",
        "| ----------- | ------------ | ----- | -------- |\n",
        "| Two-slit interference apparatus | TeachSpin | TWS 2-A | TWS 383 |\n",
        "| T-Shaped Card | N/A | N/A | N/A |\n",
        "| Multimeter  | Fluke | 179 | 58870154 |\n",
        "| Oscilloscope | Siglent | SDS 1052DL | SDS100P4141674 |\n",
        "| Digital Pulse Counter | TeachSpin | PCIT-1d | CT0171 |"
      ]
    },
    {
      "cell_type": "markdown",
      "source": [
        "# Locating New Interference Landmarks"
      ],
      "metadata": {
        "id": "qO4Tfu11kzuD"
      }
    },
    {
      "cell_type": "code",
      "metadata": {
        "id": "a6NAvW3hGnXQ"
      },
      "source": [
        "centerLocation = 4.24 #mm\n",
        "slitBlockerLocation = 5.62 #mm\n",
        "distanceToDetector = 485 #mm"
      ],
      "execution_count": 4,
      "outputs": []
    },
    {
      "cell_type": "markdown",
      "source": [
        "# Initial Observations of Photon Detections"
      ],
      "metadata": {
        "id": "bDVwcckgtQK6"
      }
    },
    {
      "cell_type": "markdown",
      "source": [
        "## Oscilloscope Settings\n",
        "* Vertical scale for CH1: 50 mV/div\n",
        "* Horizontal scale: 10 ns/div\n",
        "* Coupling for CH1: DC\n",
        "* Trigger: edge, rising, CH1\n",
        "* Trigger Level: 104 mV"
      ],
      "metadata": {
        "id": "irwghrGPtabu"
      }
    },
    {
      "cell_type": "markdown",
      "source": [
        "## Observations of Pulses"
      ],
      "metadata": {
        "id": "xJ9HhUyDusx-"
      }
    },
    {
      "cell_type": "markdown",
      "source": [
        "### PMT Voltage at 840 V\n",
        "* Amplitude: ~150 mV\n",
        "* Width: ~6.0 ns"
      ],
      "metadata": {
        "id": "-Z0U7plqvRmn"
      }
    },
    {
      "cell_type": "markdown",
      "source": [
        "### PMT Voltage at 900V\n",
        "* Amplitude: ~160 mV \n",
        "* Width: ~6.0ns\n",
        "\n",
        "The aplitute of the pulses appear to be 10 mV higher at 900V than 840V with the width of the pulses staying around 6.0ns."
      ],
      "metadata": {
        "id": "8ktPNEFcyvId"
      }
    },
    {
      "cell_type": "markdown",
      "source": [
        "# Optimizing signal to noise ratio"
      ],
      "metadata": {
        "id": "zTP8x4Sk1eEl"
      }
    },
    {
      "cell_type": "markdown",
      "source": [
        "| PMT voltage (V) | Counts with shutter open | Counts with shutter closed | Signal to noise ratio |\n",
        "| --- | --- | --- | --- |\n",
        "| 750 | 691 | 36 | 19.2:1 |\n",
        "| 800 | 8573 | 124 | 69.1:1 |\n",
        "| 850 | 18533 | 305 | 60.7:1 |\n",
        "| 900 | 23146 | 528 | 43.8:1 | "
      ],
      "metadata": {
        "id": "WO1QAprx0ipe"
      }
    },
    {
      "cell_type": "code",
      "source": [
        "df1 = pd.read_excel(\"Two Slit Dim Data.xlsx\")\n",
        "df1['x (mm)'] = df1['Location (mm)']-centerLocation\n",
        "df1['Count uncertainty'] = 2*np.sqrt(df1['PMT Counts'])\n",
        "df1"
      ],
      "metadata": {
        "colab": {
          "base_uri": "https://localhost:8080/",
          "height": 424
        },
        "id": "LmXn2pDktYxy",
        "outputId": "8565760a-6da2-4e3f-b779-e90f68bd305d"
      },
      "execution_count": 13,
      "outputs": [
        {
          "output_type": "execute_result",
          "data": {
            "text/plain": [
              "    Location (mm)  PMT Counts  x (mm)  Count uncertainty\n",
              "0            2.54         659   -1.70          51.341991\n",
              "1            2.59         662   -1.65          51.458721\n",
              "2            2.64         579   -1.60          48.124838\n",
              "3            2.69         548   -1.55          46.818800\n",
              "4            2.74         701   -1.50          52.952809\n",
              "..            ...         ...     ...                ...\n",
              "64           5.74        4289    1.50         130.980915\n",
              "65           5.79        3761    1.55         122.653985\n",
              "66           5.84        2736    1.60         104.613575\n",
              "67           5.89        2341    1.65          96.767763\n",
              "68           5.94        1722    1.70          82.993976\n",
              "\n",
              "[69 rows x 4 columns]"
            ],
            "text/html": [
              "\n",
              "  <div id=\"df-af8714be-1d75-437b-ad4d-833de818fbfc\">\n",
              "    <div class=\"colab-df-container\">\n",
              "      <div>\n",
              "<style scoped>\n",
              "    .dataframe tbody tr th:only-of-type {\n",
              "        vertical-align: middle;\n",
              "    }\n",
              "\n",
              "    .dataframe tbody tr th {\n",
              "        vertical-align: top;\n",
              "    }\n",
              "\n",
              "    .dataframe thead th {\n",
              "        text-align: right;\n",
              "    }\n",
              "</style>\n",
              "<table border=\"1\" class=\"dataframe\">\n",
              "  <thead>\n",
              "    <tr style=\"text-align: right;\">\n",
              "      <th></th>\n",
              "      <th>Location (mm)</th>\n",
              "      <th>PMT Counts</th>\n",
              "      <th>x (mm)</th>\n",
              "      <th>Count uncertainty</th>\n",
              "    </tr>\n",
              "  </thead>\n",
              "  <tbody>\n",
              "    <tr>\n",
              "      <th>0</th>\n",
              "      <td>2.54</td>\n",
              "      <td>659</td>\n",
              "      <td>-1.70</td>\n",
              "      <td>51.341991</td>\n",
              "    </tr>\n",
              "    <tr>\n",
              "      <th>1</th>\n",
              "      <td>2.59</td>\n",
              "      <td>662</td>\n",
              "      <td>-1.65</td>\n",
              "      <td>51.458721</td>\n",
              "    </tr>\n",
              "    <tr>\n",
              "      <th>2</th>\n",
              "      <td>2.64</td>\n",
              "      <td>579</td>\n",
              "      <td>-1.60</td>\n",
              "      <td>48.124838</td>\n",
              "    </tr>\n",
              "    <tr>\n",
              "      <th>3</th>\n",
              "      <td>2.69</td>\n",
              "      <td>548</td>\n",
              "      <td>-1.55</td>\n",
              "      <td>46.818800</td>\n",
              "    </tr>\n",
              "    <tr>\n",
              "      <th>4</th>\n",
              "      <td>2.74</td>\n",
              "      <td>701</td>\n",
              "      <td>-1.50</td>\n",
              "      <td>52.952809</td>\n",
              "    </tr>\n",
              "    <tr>\n",
              "      <th>...</th>\n",
              "      <td>...</td>\n",
              "      <td>...</td>\n",
              "      <td>...</td>\n",
              "      <td>...</td>\n",
              "    </tr>\n",
              "    <tr>\n",
              "      <th>64</th>\n",
              "      <td>5.74</td>\n",
              "      <td>4289</td>\n",
              "      <td>1.50</td>\n",
              "      <td>130.980915</td>\n",
              "    </tr>\n",
              "    <tr>\n",
              "      <th>65</th>\n",
              "      <td>5.79</td>\n",
              "      <td>3761</td>\n",
              "      <td>1.55</td>\n",
              "      <td>122.653985</td>\n",
              "    </tr>\n",
              "    <tr>\n",
              "      <th>66</th>\n",
              "      <td>5.84</td>\n",
              "      <td>2736</td>\n",
              "      <td>1.60</td>\n",
              "      <td>104.613575</td>\n",
              "    </tr>\n",
              "    <tr>\n",
              "      <th>67</th>\n",
              "      <td>5.89</td>\n",
              "      <td>2341</td>\n",
              "      <td>1.65</td>\n",
              "      <td>96.767763</td>\n",
              "    </tr>\n",
              "    <tr>\n",
              "      <th>68</th>\n",
              "      <td>5.94</td>\n",
              "      <td>1722</td>\n",
              "      <td>1.70</td>\n",
              "      <td>82.993976</td>\n",
              "    </tr>\n",
              "  </tbody>\n",
              "</table>\n",
              "<p>69 rows × 4 columns</p>\n",
              "</div>\n",
              "      <button class=\"colab-df-convert\" onclick=\"convertToInteractive('df-af8714be-1d75-437b-ad4d-833de818fbfc')\"\n",
              "              title=\"Convert this dataframe to an interactive table.\"\n",
              "              style=\"display:none;\">\n",
              "        \n",
              "  <svg xmlns=\"http://www.w3.org/2000/svg\" height=\"24px\"viewBox=\"0 0 24 24\"\n",
              "       width=\"24px\">\n",
              "    <path d=\"M0 0h24v24H0V0z\" fill=\"none\"/>\n",
              "    <path d=\"M18.56 5.44l.94 2.06.94-2.06 2.06-.94-2.06-.94-.94-2.06-.94 2.06-2.06.94zm-11 1L8.5 8.5l.94-2.06 2.06-.94-2.06-.94L8.5 2.5l-.94 2.06-2.06.94zm10 10l.94 2.06.94-2.06 2.06-.94-2.06-.94-.94-2.06-.94 2.06-2.06.94z\"/><path d=\"M17.41 7.96l-1.37-1.37c-.4-.4-.92-.59-1.43-.59-.52 0-1.04.2-1.43.59L10.3 9.45l-7.72 7.72c-.78.78-.78 2.05 0 2.83L4 21.41c.39.39.9.59 1.41.59.51 0 1.02-.2 1.41-.59l7.78-7.78 2.81-2.81c.8-.78.8-2.07 0-2.86zM5.41 20L4 18.59l7.72-7.72 1.47 1.35L5.41 20z\"/>\n",
              "  </svg>\n",
              "      </button>\n",
              "      \n",
              "  <style>\n",
              "    .colab-df-container {\n",
              "      display:flex;\n",
              "      flex-wrap:wrap;\n",
              "      gap: 12px;\n",
              "    }\n",
              "\n",
              "    .colab-df-convert {\n",
              "      background-color: #E8F0FE;\n",
              "      border: none;\n",
              "      border-radius: 50%;\n",
              "      cursor: pointer;\n",
              "      display: none;\n",
              "      fill: #1967D2;\n",
              "      height: 32px;\n",
              "      padding: 0 0 0 0;\n",
              "      width: 32px;\n",
              "    }\n",
              "\n",
              "    .colab-df-convert:hover {\n",
              "      background-color: #E2EBFA;\n",
              "      box-shadow: 0px 1px 2px rgba(60, 64, 67, 0.3), 0px 1px 3px 1px rgba(60, 64, 67, 0.15);\n",
              "      fill: #174EA6;\n",
              "    }\n",
              "\n",
              "    [theme=dark] .colab-df-convert {\n",
              "      background-color: #3B4455;\n",
              "      fill: #D2E3FC;\n",
              "    }\n",
              "\n",
              "    [theme=dark] .colab-df-convert:hover {\n",
              "      background-color: #434B5C;\n",
              "      box-shadow: 0px 1px 3px 1px rgba(0, 0, 0, 0.15);\n",
              "      filter: drop-shadow(0px 1px 2px rgba(0, 0, 0, 0.3));\n",
              "      fill: #FFFFFF;\n",
              "    }\n",
              "  </style>\n",
              "\n",
              "      <script>\n",
              "        const buttonEl =\n",
              "          document.querySelector('#df-af8714be-1d75-437b-ad4d-833de818fbfc button.colab-df-convert');\n",
              "        buttonEl.style.display =\n",
              "          google.colab.kernel.accessAllowed ? 'block' : 'none';\n",
              "\n",
              "        async function convertToInteractive(key) {\n",
              "          const element = document.querySelector('#df-af8714be-1d75-437b-ad4d-833de818fbfc');\n",
              "          const dataTable =\n",
              "            await google.colab.kernel.invokeFunction('convertToInteractive',\n",
              "                                                     [key], {});\n",
              "          if (!dataTable) return;\n",
              "\n",
              "          const docLinkHtml = 'Like what you see? Visit the ' +\n",
              "            '<a target=\"_blank\" href=https://colab.research.google.com/notebooks/data_table.ipynb>data table notebook</a>'\n",
              "            + ' to learn more about interactive tables.';\n",
              "          element.innerHTML = '';\n",
              "          dataTable['output_type'] = 'display_data';\n",
              "          await google.colab.output.renderOutput(dataTable, element);\n",
              "          const docLink = document.createElement('div');\n",
              "          docLink.innerHTML = docLinkHtml;\n",
              "          element.appendChild(docLink);\n",
              "        }\n",
              "      </script>\n",
              "    </div>\n",
              "  </div>\n",
              "  "
            ]
          },
          "metadata": {},
          "execution_count": 13
        }
      ]
    },
    {
      "cell_type": "markdown",
      "source": [
        "# Analysis"
      ],
      "metadata": {
        "id": "aTpfF4yk9k0Y"
      }
    },
    {
      "cell_type": "code",
      "source": [
        "def I_ts(x, I0, wavelength, x0, dI):\n",
        "  d = 0.406 #mm\n",
        "  q = np.arctan((x-x0)/distanceToDetector)\n",
        "  I2s = I0*np.sinc(a*np.sin(q)/wavelength)**2*np.cos(np.pi*d*np.sin(q)/wavelength)**2\n",
        "  return I2s + dI"
      ],
      "metadata": {
        "id": "IxWZGSCu9tTX"
      },
      "execution_count": 14,
      "outputs": []
    },
    {
      "cell_type": "code",
      "source": [],
      "metadata": {
        "id": "HNyujlUN-zdS"
      },
      "execution_count": null,
      "outputs": []
    }
  ]
}